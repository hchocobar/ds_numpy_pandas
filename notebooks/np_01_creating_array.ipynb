{
 "cells": [
  {
   "cell_type": "markdown",
   "source": [
    "# Introducción a Numpy\n",
    "\n",
    "Numerical Python Library\n",
    "\n",
    "\n",
    "> NumPy es una biblioteca de Python que da soporte para crear vectores y matrices grandes multidimensionales, junto con una gran colección de funciones matemáticas de alto nivel para operar con ellas.\n",
    "\n",
    "[Sitio oficial: numpy.org](https://numpy.org) | [Documentación oficial](https://numpy.org/doc/stable/)"
   ],
   "metadata": {
    "collapsed": false
   }
  },
  {
   "cell_type": "code",
   "execution_count": 1,
   "metadata": {
    "collapsed": true,
    "ExecuteTime": {
     "end_time": "2023-10-08T23:23:02.579042825Z",
     "start_time": "2023-10-08T23:23:02.523063336Z"
    }
   },
   "outputs": [],
   "source": [
    "import numpy as np"
   ]
  },
  {
   "cell_type": "markdown",
   "source": [
    "## Creación de array\n",
    "\n",
    "## array()"
   ],
   "metadata": {
    "collapsed": false
   }
  },
  {
   "cell_type": "code",
   "execution_count": 2,
   "outputs": [
    {
     "data": {
      "text/plain": "(array([1, 2, 3]), 1)"
     },
     "execution_count": 2,
     "metadata": {},
     "output_type": "execute_result"
    }
   ],
   "source": [
    "# Con NumPy podemos crear un array desde una lista de Python. En este caso crearemos un array de una dimensión\n",
    "a= np.array([1, 2, 3])  # Array de una dimensión\n",
    "a, a.ndim"
   ],
   "metadata": {
    "collapsed": false,
    "ExecuteTime": {
     "end_time": "2023-10-08T23:23:02.595581283Z",
     "start_time": "2023-10-08T23:23:02.586489022Z"
    }
   }
  },
  {
   "cell_type": "code",
   "execution_count": 3,
   "outputs": [
    {
     "data": {
      "text/plain": "(array([[1, 2, 3],\n        [7, 8, 9]]),\n 2)"
     },
     "execution_count": 3,
     "metadata": {},
     "output_type": "execute_result"
    }
   ],
   "source": [
    "# Pero si le damos como argumento una lista de listas, entonces obtenemos un array de dos dimensions.\n",
    "b= np.array([(1, 2, 3), (7, 8, 9)])  # Array de dos dimensiones\n",
    "b, b.ndim"
   ],
   "metadata": {
    "collapsed": false,
    "ExecuteTime": {
     "end_time": "2023-10-08T23:23:02.654701762Z",
     "start_time": "2023-10-08T23:23:02.592227900Z"
    }
   }
  },
  {
   "cell_type": "code",
   "execution_count": 4,
   "outputs": [
    {
     "data": {
      "text/plain": "(2, 3)"
     },
     "execution_count": 4,
     "metadata": {},
     "output_type": "execute_result"
    }
   ],
   "source": [
    "# Podemos saber el largo de cada dimensión llamando al atributo shape que nos retornará un tupla\n",
    "b.shape"
   ],
   "metadata": {
    "collapsed": false,
    "ExecuteTime": {
     "end_time": "2023-10-08T23:23:02.677826786Z",
     "start_time": "2023-10-08T23:23:02.601884286Z"
    }
   }
  },
  {
   "cell_type": "code",
   "execution_count": 5,
   "outputs": [
    {
     "data": {
      "text/plain": "dtype('int64')"
     },
     "execution_count": 5,
     "metadata": {},
     "output_type": "execute_result"
    }
   ],
   "source": [
    "# También podemos saber el tipo de los elementos de un array\n",
    "b.dtype"
   ],
   "metadata": {
    "collapsed": false,
    "ExecuteTime": {
     "end_time": "2023-10-08T23:23:02.690071003Z",
     "start_time": "2023-10-08T23:23:02.613753025Z"
    }
   }
  },
  {
   "cell_type": "code",
   "execution_count": 6,
   "outputs": [
    {
     "data": {
      "text/plain": "(array([ 2.5,  4. ,  6.5, 11. ,  2. ]), 'float64')"
     },
     "execution_count": 6,
     "metadata": {},
     "output_type": "execute_result"
    }
   ],
   "source": [
    "# Podemos utilizar números decimales (flotantes) también\n",
    "c = np.array([2.5, 4, 6.5, 11,2])\n",
    "c, c.dtype.name"
   ],
   "metadata": {
    "collapsed": false,
    "ExecuteTime": {
     "end_time": "2023-10-08T23:23:02.691298498Z",
     "start_time": "2023-10-08T23:23:02.623777904Z"
    }
   }
  },
  {
   "cell_type": "code",
   "execution_count": 7,
   "outputs": [],
   "source": [
    "# Notemos que NumPy automáticamente convirtió los números enteros en flotantes. Entonces al número 4 (int64) lo convirtió en 4. (float64)\n",
    "# Numpy intentará brindarnos el mejor formato de tipo de datos posible para mantener sus tipos de datos homogéneos. \n",
    "# Esto significa que todos los elementos en la matriz serán del mismo tipo."
   ],
   "metadata": {
    "collapsed": false,
    "ExecuteTime": {
     "end_time": "2023-10-08T23:23:02.739492144Z",
     "start_time": "2023-10-08T23:23:02.632656445Z"
    }
   }
  },
  {
   "cell_type": "markdown",
   "source": [
    "## zeros() ones()\n",
    "\n",
    "NunPy nos ofrece varias funciones para crear arrays con valores iniciales, como ceros o unos."
   ],
   "metadata": {
    "collapsed": false
   }
  },
  {
   "cell_type": "code",
   "execution_count": 8,
   "outputs": [
    {
     "data": {
      "text/plain": "(array([0., 0., 0., 0., 0., 0., 0., 0., 0., 0.]),\n array([[1., 1., 1., 1., 1.],\n        [1., 1., 1., 1., 1.],\n        [1., 1., 1., 1., 1.]]))"
     },
     "execution_count": 8,
     "metadata": {},
     "output_type": "execute_result"
    }
   ],
   "source": [
    "# Crearemos dos array, el primero con ceros (0) como valores iniciales, y el segundo con unos (1).\n",
    "# El argumento será una lista con los valores de la dimensión del array que se creará\n",
    "d = np.zeros(10)  # Crea un array de una dimensión con 10 elementos iguales a 0 \n",
    "e = np.ones((3, 5))  # Crea un array de dos dimensiones con tres filas y 5 columnas, donde todos sus elementos son igual a 1 \n",
    "d, e"
   ],
   "metadata": {
    "collapsed": false,
    "ExecuteTime": {
     "end_time": "2023-10-08T23:23:02.740384950Z",
     "start_time": "2023-10-08T23:23:02.676242323Z"
    }
   }
  },
  {
   "cell_type": "markdown",
   "source": [
    "## random.rand() arange() linspaces()"
   ],
   "metadata": {
    "collapsed": false
   }
  },
  {
   "cell_type": "code",
   "execution_count": 9,
   "outputs": [
    {
     "data": {
      "text/plain": "array([[0.39848751, 0.66275995, 0.97634895, 0.50802307, 0.83623936],\n       [0.01271629, 0.61388218, 0.12405496, 0.54064821, 0.62487962],\n       [0.69171288, 0.88581418, 0.24829207, 0.3945448 , 0.55178511]])"
     },
     "execution_count": 9,
     "metadata": {},
     "output_type": "execute_result"
    }
   ],
   "source": [
    "# Podemos generar un array con números aleatorios \n",
    "np.random.rand(3,5)  # Genera un array de 3 filas y 5 columnas con números aleatorios (entre 0 y 0,99...)"
   ],
   "metadata": {
    "collapsed": false,
    "ExecuteTime": {
     "end_time": "2023-10-08T23:23:02.741381333Z",
     "start_time": "2023-10-08T23:23:02.676497809Z"
    }
   }
  },
  {
   "cell_type": "code",
   "execution_count": 10,
   "outputs": [
    {
     "data": {
      "text/plain": "array([[81.67074971, 98.43133934, 86.16181338, 56.56031095, 60.38119711],\n       [28.90317958, 74.50609177, 54.48242804,  6.6013586 , 17.19876238],\n       [52.1896721 , 64.61156542, 44.14047116, 48.68866706, 73.49319661],\n       [82.63800645, 44.04792721,  5.15242461, 12.20626149,  8.05209394]])"
     },
     "execution_count": 10,
     "metadata": {},
     "output_type": "execute_result"
    }
   ],
   "source": [
    "# Si necesitamos números aleatorios entre 0 y 100 (no inclusive), simplemente los multiplicamos y obtenemos lo que deseamos \n",
    "np.random.rand(4, 5) * 100  # Array de 4x5 con valores entre 0 y 100 (no inclusive)"
   ],
   "metadata": {
    "collapsed": false,
    "ExecuteTime": {
     "end_time": "2023-10-08T23:23:02.742201223Z",
     "start_time": "2023-10-08T23:23:02.676735486Z"
    }
   }
  },
  {
   "cell_type": "code",
   "execution_count": 11,
   "outputs": [
    {
     "data": {
      "text/plain": "(array([10, 12, 14, 16, 18, 20, 22, 24, 26, 28, 30, 32, 34, 36, 38, 40, 42,\n        44, 46, 48]),\n 1)"
     },
     "execution_count": 11,
     "metadata": {},
     "output_type": "execute_result"
    }
   ],
   "source": [
    "# Pero también tenemos la función arange() para crear secuencias de números aleatorios.\n",
    "# En esta función, el primer argumento será el valor inicial del rango, el segundo el valor final (no incluído), y el tercero la diferencia entre números consecutivos\n",
    "f= np.arange(10, 50, 2)  # Crear un array de números pares entre 10 (incluído) y 50 (no incluído) \n",
    "f, f.ndim"
   ],
   "metadata": {
    "collapsed": false,
    "ExecuteTime": {
     "end_time": "2023-10-08T23:23:02.759215383Z",
     "start_time": "2023-10-08T23:23:02.676968343Z"
    }
   }
  },
  {
   "cell_type": "code",
   "execution_count": 12,
   "outputs": [
    {
     "data": {
      "text/plain": "(array([ 0.        ,  0.71428571,  1.42857143,  2.14285714,  2.85714286,\n         3.57142857,  4.28571429,  5.        ,  5.71428571,  6.42857143,\n         7.14285714,  7.85714286,  8.57142857,  9.28571429, 10.        ]),\n 1)"
     },
     "execution_count": 12,
     "metadata": {},
     "output_type": "execute_result"
    }
   ],
   "source": [
    "# Si deseamos generar una secuencia de números flotantes, podemos usar la función linspace().\n",
    "# En esta función, el tercero no es la diferencia entre números consecutivos, sino que es el total de elementos que deso generar.\n",
    "g = np.linspace(0, 10, 15)  # Genera un array con 15 números decimales entre 0 (incluído) y 10 (no incluído)\n",
    "g, g.ndim"
   ],
   "metadata": {
    "collapsed": false,
    "ExecuteTime": {
     "end_time": "2023-10-08T23:23:02.759740325Z",
     "start_time": "2023-10-08T23:23:02.719202336Z"
    }
   }
  },
  {
   "cell_type": "code",
   "execution_count": 12,
   "outputs": [],
   "source": [],
   "metadata": {
    "collapsed": false,
    "ExecuteTime": {
     "end_time": "2023-10-08T23:23:02.760021444Z",
     "start_time": "2023-10-08T23:23:02.719528643Z"
    }
   }
  }
 ],
 "metadata": {
  "kernelspec": {
   "display_name": "Python 3",
   "language": "python",
   "name": "python3"
  },
  "language_info": {
   "codemirror_mode": {
    "name": "ipython",
    "version": 2
   },
   "file_extension": ".py",
   "mimetype": "text/x-python",
   "name": "python",
   "nbconvert_exporter": "python",
   "pygments_lexer": "ipython2",
   "version": "2.7.6"
  }
 },
 "nbformat": 4,
 "nbformat_minor": 0
}

{
 "cells": [
  {
   "cell_type": "markdown",
   "source": [
    "# Introducción a Numpy\n",
    "\n",
    "Numerical Python Library\n",
    "\n",
    "\n",
    "> NumPy es una biblioteca de Python que da soporte para crear vectores y matrices grandes multidimensionales, junto con una gran colección de funciones matemáticas de alto nivel para operar con ellas.\n",
    "\n",
    "Sitio oficial: [numpy.org](https://numpy.org)\n",
    "Documentación oficial: [numpy.org/doc/stable/](https://numpy.org/doc/stable/)"
   ],
   "metadata": {
    "collapsed": false
   }
  },
  {
   "cell_type": "code",
   "execution_count": 1,
   "outputs": [],
   "source": [
    "import numpy as np"
   ],
   "metadata": {
    "collapsed": false,
    "ExecuteTime": {
     "end_time": "2023-10-08T23:23:39.995297750Z",
     "start_time": "2023-10-08T23:23:39.919190211Z"
    }
   }
  },
  {
   "cell_type": "markdown",
   "source": [
    "## Atributos de un array\n",
    "\n",
    "Existen varios atributos que describen un array"
   ],
   "metadata": {
    "collapsed": false
   }
  },
  {
   "cell_type": "code",
   "execution_count": 2,
   "outputs": [
    {
     "data": {
      "text/plain": "1"
     },
     "execution_count": 2,
     "metadata": {},
     "output_type": "execute_result"
    }
   ],
   "source": [
    "a = np.array([10, 20, 30, 40])\n",
    "a.ndim  # Devuelve el número de dimensiones del array"
   ],
   "metadata": {
    "collapsed": false,
    "ExecuteTime": {
     "end_time": "2023-10-08T23:23:40.008098687Z",
     "start_time": "2023-10-08T23:23:40.001767747Z"
    }
   }
  },
  {
   "cell_type": "code",
   "execution_count": 3,
   "outputs": [
    {
     "data": {
      "text/plain": "(4,)"
     },
     "execution_count": 3,
     "metadata": {},
     "output_type": "execute_result"
    }
   ],
   "source": [
    "a.shape  # Devuelve una tupla con las dimensiones del array"
   ],
   "metadata": {
    "collapsed": false,
    "ExecuteTime": {
     "end_time": "2023-10-08T23:23:40.080685847Z",
     "start_time": "2023-10-08T23:23:40.012526538Z"
    }
   }
  },
  {
   "cell_type": "code",
   "execution_count": 4,
   "outputs": [
    {
     "data": {
      "text/plain": "4"
     },
     "execution_count": 4,
     "metadata": {},
     "output_type": "execute_result"
    }
   ],
   "source": [
    "a.size  # Devuelve el número de elementos del array"
   ],
   "metadata": {
    "collapsed": false,
    "ExecuteTime": {
     "end_time": "2023-10-08T23:23:40.089391037Z",
     "start_time": "2023-10-08T23:23:40.021262250Z"
    }
   }
  },
  {
   "cell_type": "code",
   "execution_count": 5,
   "outputs": [
    {
     "data": {
      "text/plain": "dtype('int64')"
     },
     "execution_count": 5,
     "metadata": {},
     "output_type": "execute_result"
    }
   ],
   "source": [
    "a.dtype  # Devuelve el tipo de datos de los elementos del array"
   ],
   "metadata": {
    "collapsed": false,
    "ExecuteTime": {
     "end_time": "2023-10-08T23:23:40.091336311Z",
     "start_time": "2023-10-08T23:23:40.071264205Z"
    }
   }
  },
  {
   "cell_type": "markdown",
   "source": [
    "## Operaciones con Arrays\n",
    "\n",
    "Existen dos formas de realizar operaciones con arrays: \n",
    "- Operaciones matemáticas sobre elementos y \n",
    "- Álgebra matricial con arrays.\n"
   ],
   "metadata": {
    "collapsed": false
   }
  },
  {
   "cell_type": "markdown",
   "source": [
    "### Operaciones matemáticas entre elementos de un array\n",
    "\n",
    "Las operaciones matemáticas operan los elementos que ocupan la misma posición en dos arrays. Se necesitan, por tanto, dos arrays con las mismas dimensiones y el resultado es una array de la misma dimensión.\n",
    "\n",
    "Los operadores matemáticos `+`, `-`, `*`, `/`, `%`, `**` se utilizan para realizar suma, resta, producto, cociente, resto y potencia de elementos."
   ],
   "metadata": {
    "collapsed": false
   }
  },
  {
   "cell_type": "code",
   "execution_count": 6,
   "outputs": [
    {
     "data": {
      "text/plain": "(array([11, 22, 33, 44]), array([ 9, 18, 27, 36]), array([ 10,  40,  90, 160]))"
     },
     "execution_count": 6,
     "metadata": {},
     "output_type": "execute_result"
    }
   ],
   "source": [
    "# Tenemos un par de arrays\n",
    "b = np.array([1, 2, 3, 4])\n",
    "\n",
    "c = a + b  # Suma de elementos\n",
    "d = a - b  # Resta de elementos\n",
    "e = a * b  # Multiplicación de elementos\n",
    "\n",
    "c, d, e,"
   ],
   "metadata": {
    "collapsed": false,
    "ExecuteTime": {
     "end_time": "2023-10-08T23:23:40.091920550Z",
     "start_time": "2023-10-08T23:23:40.071561109Z"
    }
   }
  },
  {
   "cell_type": "markdown",
   "source": [
    "### Álgebra matricial\n",
    "\n",
    "Numpy incorpora funciones para realizar las principales operaciones algebraicas con vectores y matrices. La mayoría de los métodos algebráicos se agrupan en el submódulo linalg.\n",
    "\n",
    "Documentación oficial: [Linear algebra](https://numpy.org/doc/stable/reference/routines.linalg.html)\n",
    "\n",
    "Allí encontrarás funciones para realizar: \n",
    "- Producto escalar de dos vectores\n",
    "- Módulo de un vector\n",
    "- Producto de matrices\n",
    "- Matriz transpuesta\n",
    "- Trasa de una matriz cuadrada\n",
    "- Determinante de una matriz\n",
    "- Matriz inversa\n",
    "- y, muchas más"
   ],
   "metadata": {
    "collapsed": false
   }
  },
  {
   "cell_type": "markdown",
   "source": [
    "## Funciones integradas\n",
    "\n",
    "Numpy prové muchas funciones integradas. Entre ellas matemáticas, estadísticas, lógicas, y muchas más que encontrarás en la documentación oficial de NumPy\n",
    " \n",
    "- sum()\n",
    "- max()\n",
    "- min()\n",
    "- mean()\n",
    "\n",
    "[Funciones matemáticas](https://numpy.org/doc/stable/reference/routines.math.html#)\n",
    "\n",
    "[Funciones estadísticas](https://numpy.org/doc/stable/reference/routines.statistics.html)"
   ],
   "metadata": {
    "collapsed": false
   }
  },
  {
   "cell_type": "code",
   "execution_count": 7,
   "outputs": [
    {
     "name": "stdout",
     "output_type": "stream",
     "text": [
      "10\n",
      "4\n",
      "1\n",
      "2.5\n"
     ]
    }
   ],
   "source": [
    "# En NumPy, los arrays tienen funciones predefinidas que se pueden aplicar en ellas, tales como sum, max, min, mean \n",
    "print(b.sum())  # Suma de todos los elementos del array\n",
    "print(b.max())  # Valor máximo de los elementos del array\n",
    "print(b.min())  # Valor mínimo de los elementos del array\n",
    "print(b.mean())  # Valor de la media aritmética de los elementos del array"
   ],
   "metadata": {
    "collapsed": false,
    "ExecuteTime": {
     "end_time": "2023-10-08T23:23:40.092285690Z",
     "start_time": "2023-10-08T23:23:40.071767286Z"
    }
   }
  },
  {
   "cell_type": "code",
   "execution_count": 7,
   "outputs": [],
   "source": [],
   "metadata": {
    "collapsed": false,
    "ExecuteTime": {
     "end_time": "2023-10-08T23:23:40.092491099Z",
     "start_time": "2023-10-08T23:23:40.072002029Z"
    }
   }
  }
 ],
 "metadata": {
  "kernelspec": {
   "display_name": "Python 3",
   "language": "python",
   "name": "python3"
  },
  "language_info": {
   "codemirror_mode": {
    "name": "ipython",
    "version": 2
   },
   "file_extension": ".py",
   "mimetype": "text/x-python",
   "name": "python",
   "nbconvert_exporter": "python",
   "pygments_lexer": "ipython2",
   "version": "2.7.6"
  }
 },
 "nbformat": 4,
 "nbformat_minor": 0
}

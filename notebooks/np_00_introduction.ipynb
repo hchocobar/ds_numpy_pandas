{
 "cells": [
  {
   "cell_type": "markdown",
   "source": [
    "# Introducción a Numpy\n",
    "\n",
    "Numerical Python Library\n",
    "\n",
    "\n",
    "> NumPy es una biblioteca de Python que da soporte para crear vectores y matrices grandes multidimensionales, junto con una gran colección de funciones matemáticas de alto nivel para operar con ellas.\n",
    "\n",
    "Sitio oficial: [numpy.org](https://numpy.org)\n",
    "Documentación oficial: [numpy.org/doc/stable/](https://numpy.org/doc/stable/)"
   ],
   "metadata": {
    "collapsed": false
   },
   "id": "306db1245f46ecda"
  },
  {
   "cell_type": "markdown",
   "source": [
    "![Numpy](../images/logo-numpy.png)\n",
    "\n",
    "NumPy es una librería de Python especializada en cálculo numérico y análisis de datos, especialmente para un gran volumen de datos.\n",
    "\n",
    "Incorpora una nueva clase de objetos llamados **arrays** que permite representar colecciones de datos de un mismo tipo en varias dimensiones, y funciones muy eficientes para su manipulación.\n",
    "\n",
    "La ventaja de Numpy frente a las listas predefinidas en Python es que el procesamiento de los arrays se realiza mucho más rápido (hasta 50 veces más) que las listas, lo cual la hace ideal para el procesamiento de vectores y matrices de grandes dimensiones."
   ],
   "metadata": {
    "collapsed": false
   },
   "id": "8cd8111447b8997b"
  },
  {
   "cell_type": "markdown",
   "source": [
    "## La clase de objeto: array\n",
    "\n",
    "Un array es una estructura de datos de un mismo tipo organizada en forma de tabla o cuadrícula de distintas dimensiones.\n",
    "\n",
    "Las dimensiones de un array también se conocen como ejes.\n",
    "\n",
    "![arrays](../images/numpy-arrays.png)"
   ],
   "metadata": {
    "collapsed": false
   },
   "id": "1148b448b826e063"
  },
  {
   "cell_type": "code",
   "execution_count": null,
   "outputs": [],
   "source": [],
   "metadata": {
    "collapsed": false,
    "ExecuteTime": {
     "end_time": "2023-10-08T23:16:51.915948863Z",
     "start_time": "2023-10-08T23:16:51.915191064Z"
    }
   },
   "id": "aad84a60858b76cb"
  }
 ],
 "metadata": {
  "kernelspec": {
   "display_name": "Python 3",
   "language": "python",
   "name": "python3"
  },
  "language_info": {
   "codemirror_mode": {
    "name": "ipython",
    "version": 2
   },
   "file_extension": ".py",
   "mimetype": "text/x-python",
   "name": "python",
   "nbconvert_exporter": "python",
   "pygments_lexer": "ipython2",
   "version": "2.7.6"
  }
 },
 "nbformat": 4,
 "nbformat_minor": 5
}

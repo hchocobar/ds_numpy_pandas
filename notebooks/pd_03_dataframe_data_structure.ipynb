{
 "cells": [
  {
   "cell_type": "markdown",
   "source": [
    "# Introducción a Pandas\n",
    "\n",
    "> Pandas es una librería de Python escrita como extensión de NumPy para manipulación y análisis de datos.\n",
    "\n",
    "Sitio oficial: [pandas.python.org](https://pandas.pydata.org/)\n",
    "Documentación Oficial: [pandas.pydata.org/pandas-docs/stable/](https://pandas.pydata.org/pandas-docs/stable/)"
   ],
   "metadata": {
    "collapsed": false
   },
   "id": "cc8dd1e7022c0deb"
  },
  {
   "cell_type": "code",
   "execution_count": 3,
   "id": "initial_id",
   "metadata": {
    "collapsed": true,
    "ExecuteTime": {
     "end_time": "2023-10-10T03:49:26.239753488Z",
     "start_time": "2023-10-10T03:49:25.698910948Z"
    }
   },
   "outputs": [],
   "source": [
    "import pandas as pd"
   ]
  },
  {
   "cell_type": "markdown",
   "source": [
    "## DataFrame\n",
    "\n",
    "Un objeto del tipo DataFrame define un conjunto de datos estructurado en forma de tabla donde cada columna es un objeto de tipo Series, es decir, todos los datos de una misma columna son del mismo tipo, y las filas son registros que pueden contender datos de distintos tipos.\n",
    "\n",
    "Un DataFrame contiene dos índices, uno para las filas y otro para las columnas, y se puede acceder a sus elementos mediante los nombres de las filas y las columnas.\n",
    "\n",
    "Ejemplo. El siguiente DataFrame contiene información sobre los alumnos de un curso. Cada fila corresponde a un alumno y cada columna a una variable.\n",
    "\n",
    "![Ejemplo](../images/dataframe-ejemplo.png)"
   ],
   "metadata": {
    "collapsed": false
   },
   "id": "f169834f1fca3fb3"
  },
  {
   "cell_type": "markdown",
   "source": [
    "### Creación de una Serie a partir de una lista\n",
    "\n",
    "`DataFrame(data=diccionario, index=filas, columns=columnas, dtype=tipos)`\n",
    "\n",
    "Devuelve un objeto de tipo DataFrame cuyas columnas son las listas contenidas en los valores del diccionario `diccionario`, los nombres de filas indicados en la lista `filas`, los nombres de columnas indicados en la lista `columnas` y los tipos indicados en la lista `tipos`. \n",
    "\n",
    "La lista `filas` tiene que tener el mismo tamaño que las listas del diccionario, mientras que las listas `columnas` y `tipos` tienen que tener el mismo tamaño que el `diccionario`. \n",
    "\n",
    "- Si no se pasa la lista de filas se utilizan como nombres los enteros empezando en 0.\n",
    "- Si no se pasa la lista de columnas se utilizan como nombres las claves del diccionario.\n",
    "- Si no se pasa la lista de tipos, se infiere."
   ],
   "metadata": {
    "collapsed": false
   },
   "id": "6f8e28a9c704eee0"
  },
  {
   "cell_type": "code",
   "execution_count": 4,
   "outputs": [
    {
     "data": {
      "text/plain": "           Name      Class  Score\nschool1  Hallie    Physics     55\nschool2    Jack  Chemistry     53\nschool1  Alison    Biology     58",
      "text/html": "<div>\n<style scoped>\n    .dataframe tbody tr th:only-of-type {\n        vertical-align: middle;\n    }\n\n    .dataframe tbody tr th {\n        vertical-align: top;\n    }\n\n    .dataframe thead th {\n        text-align: right;\n    }\n</style>\n<table border=\"1\" class=\"dataframe\">\n  <thead>\n    <tr style=\"text-align: right;\">\n      <th></th>\n      <th>Name</th>\n      <th>Class</th>\n      <th>Score</th>\n    </tr>\n  </thead>\n  <tbody>\n    <tr>\n      <th>school1</th>\n      <td>Hallie</td>\n      <td>Physics</td>\n      <td>55</td>\n    </tr>\n    <tr>\n      <th>school2</th>\n      <td>Jack</td>\n      <td>Chemistry</td>\n      <td>53</td>\n    </tr>\n    <tr>\n      <th>school1</th>\n      <td>Alison</td>\n      <td>Biology</td>\n      <td>58</td>\n    </tr>\n  </tbody>\n</table>\n</div>"
     },
     "execution_count": 4,
     "metadata": {},
     "output_type": "execute_result"
    }
   ],
   "source": [
    "record1 = pd.Series({'Name': 'Hallie',\n",
    "                     'Class': 'Physics',\n",
    "                     'Score': 55})\n",
    "record2 = pd.Series({'Name': 'Jack',\n",
    "                     'Class': 'Chemistry',\n",
    "                     'Score': 53})\n",
    "record3 = pd.Series({'Name': 'Alison',\n",
    "                     'Class': 'Biology',\n",
    "                     'Score': 58})\n",
    "df = pd.DataFrame([record1, record2, record3],\n",
    "                  index=['school1', 'school2', 'school1'])\n",
    "df.head()"
   ],
   "metadata": {
    "collapsed": false,
    "ExecuteTime": {
     "end_time": "2023-10-10T03:49:26.240806591Z",
     "start_time": "2023-10-10T03:49:26.225069474Z"
    }
   },
   "id": "fbad7e17a5f1a002"
  },
  {
   "cell_type": "markdown",
   "source": [
    "### Creación de un DataFrame a partir de un diccionario de listas"
   ],
   "metadata": {
    "collapsed": false
   },
   "id": "4b7c0a46bb403a21"
  },
  {
   "cell_type": "code",
   "execution_count": 5,
   "outputs": [
    {
     "data": {
      "text/plain": "       name  age      class               email\n0    Hallie   18    Physics    hallie@gmail.com\n1      Jack   22  Chemistry       jack@yahoo.es\n2    Alison   20    Biology    alison@gmail.com\n3  Victoria   21       Math  victoria@gmail.com",
      "text/html": "<div>\n<style scoped>\n    .dataframe tbody tr th:only-of-type {\n        vertical-align: middle;\n    }\n\n    .dataframe tbody tr th {\n        vertical-align: top;\n    }\n\n    .dataframe thead th {\n        text-align: right;\n    }\n</style>\n<table border=\"1\" class=\"dataframe\">\n  <thead>\n    <tr style=\"text-align: right;\">\n      <th></th>\n      <th>name</th>\n      <th>age</th>\n      <th>class</th>\n      <th>email</th>\n    </tr>\n  </thead>\n  <tbody>\n    <tr>\n      <th>0</th>\n      <td>Hallie</td>\n      <td>18</td>\n      <td>Physics</td>\n      <td>hallie@gmail.com</td>\n    </tr>\n    <tr>\n      <th>1</th>\n      <td>Jack</td>\n      <td>22</td>\n      <td>Chemistry</td>\n      <td>jack@yahoo.es</td>\n    </tr>\n    <tr>\n      <th>2</th>\n      <td>Alison</td>\n      <td>20</td>\n      <td>Biology</td>\n      <td>alison@gmail.com</td>\n    </tr>\n    <tr>\n      <th>3</th>\n      <td>Victoria</td>\n      <td>21</td>\n      <td>Math</td>\n      <td>victoria@gmail.com</td>\n    </tr>\n  </tbody>\n</table>\n</div>"
     },
     "execution_count": 5,
     "metadata": {},
     "output_type": "execute_result"
    }
   ],
   "source": [
    "students = {'name': ['Hallie', 'Jack', 'Alison', 'Victoria'],\n",
    "            'age': [18, 22, 20, 21],\n",
    "            'class': ['Physics', 'Chemistry', 'Biology', 'Math'],\n",
    "            'email':['hallie@gmail.com', 'jack@yahoo.es', 'alison@gmail.com', 'victoria@gmail.com']}\n",
    "\n",
    "df = pd.DataFrame(students)\n",
    "df"
   ],
   "metadata": {
    "collapsed": false,
    "ExecuteTime": {
     "end_time": "2023-10-10T03:49:26.241942883Z",
     "start_time": "2023-10-10T03:49:26.225342085Z"
    }
   },
   "id": "93d5f82ba9a4c5dc"
  },
  {
   "cell_type": "markdown",
   "source": [
    "### Creación de un DataFrame a partir de una lista de listas"
   ],
   "metadata": {
    "collapsed": false
   },
   "id": "bd66e2bca0cc05de"
  },
  {
   "cell_type": "code",
   "execution_count": 6,
   "outputs": [
    {
     "data": {
      "text/plain": "       name  age      class               email\n0    Hallie   18    Physics    hallie@gmail.com\n1      Jack   22  Chemistry       jack@yahoo.uy\n2    Alison   20    Biology    alison@gmail.com\n3  Victoria   21       Math  victoria@gmail.com",
      "text/html": "<div>\n<style scoped>\n    .dataframe tbody tr th:only-of-type {\n        vertical-align: middle;\n    }\n\n    .dataframe tbody tr th {\n        vertical-align: top;\n    }\n\n    .dataframe thead th {\n        text-align: right;\n    }\n</style>\n<table border=\"1\" class=\"dataframe\">\n  <thead>\n    <tr style=\"text-align: right;\">\n      <th></th>\n      <th>name</th>\n      <th>age</th>\n      <th>class</th>\n      <th>email</th>\n    </tr>\n  </thead>\n  <tbody>\n    <tr>\n      <th>0</th>\n      <td>Hallie</td>\n      <td>18</td>\n      <td>Physics</td>\n      <td>hallie@gmail.com</td>\n    </tr>\n    <tr>\n      <th>1</th>\n      <td>Jack</td>\n      <td>22</td>\n      <td>Chemistry</td>\n      <td>jack@yahoo.uy</td>\n    </tr>\n    <tr>\n      <th>2</th>\n      <td>Alison</td>\n      <td>20</td>\n      <td>Biology</td>\n      <td>alison@gmail.com</td>\n    </tr>\n    <tr>\n      <th>3</th>\n      <td>Victoria</td>\n      <td>21</td>\n      <td>Math</td>\n      <td>victoria@gmail.com</td>\n    </tr>\n  </tbody>\n</table>\n</div>"
     },
     "execution_count": 6,
     "metadata": {},
     "output_type": "execute_result"
    }
   ],
   "source": [
    "df = pd.DataFrame([['Hallie', 18, 'Physics', 'hallie@gmail.com'],\n",
    "                   ['Jack', 22, 'Chemistry', 'jack@yahoo.uy'],\n",
    "                   ['Alison', 20, 'Biology', 'alison@gmail.com'],\n",
    "                   ['Victoria', 21, 'Math', 'victoria@gmail.com']],\n",
    "                  columns=['name', 'age', 'class', 'email'])\n",
    "df"
   ],
   "metadata": {
    "collapsed": false,
    "ExecuteTime": {
     "end_time": "2023-10-10T03:49:26.269602425Z",
     "start_time": "2023-10-10T03:49:26.225626679Z"
    }
   },
   "id": "bdf985d831a0fdf1"
  },
  {
   "cell_type": "markdown",
   "source": [
    "### Creación de un DataFrame a parti de una lista de diccionarios"
   ],
   "metadata": {
    "collapsed": false
   },
   "id": "d8e8b1e42f91ebbf"
  },
  {
   "cell_type": "code",
   "execution_count": 7,
   "outputs": [
    {
     "data": {
      "text/plain": "       name  age      class               email\n0    Hallie   18    Physics    hallie@gmail.com\n1      Jack   22  Chemistry       jack@yahoo.uy\n2    Alison   20    Biology    alison@gmail.com\n3  Victoria   21       Math  victoria@gmail.com",
      "text/html": "<div>\n<style scoped>\n    .dataframe tbody tr th:only-of-type {\n        vertical-align: middle;\n    }\n\n    .dataframe tbody tr th {\n        vertical-align: top;\n    }\n\n    .dataframe thead th {\n        text-align: right;\n    }\n</style>\n<table border=\"1\" class=\"dataframe\">\n  <thead>\n    <tr style=\"text-align: right;\">\n      <th></th>\n      <th>name</th>\n      <th>age</th>\n      <th>class</th>\n      <th>email</th>\n    </tr>\n  </thead>\n  <tbody>\n    <tr>\n      <th>0</th>\n      <td>Hallie</td>\n      <td>18</td>\n      <td>Physics</td>\n      <td>hallie@gmail.com</td>\n    </tr>\n    <tr>\n      <th>1</th>\n      <td>Jack</td>\n      <td>22</td>\n      <td>Chemistry</td>\n      <td>jack@yahoo.uy</td>\n    </tr>\n    <tr>\n      <th>2</th>\n      <td>Alison</td>\n      <td>20</td>\n      <td>Biology</td>\n      <td>alison@gmail.com</td>\n    </tr>\n    <tr>\n      <th>3</th>\n      <td>Victoria</td>\n      <td>21</td>\n      <td>Math</td>\n      <td>victoria@gmail.com</td>\n    </tr>\n  </tbody>\n</table>\n</div>"
     },
     "execution_count": 7,
     "metadata": {},
     "output_type": "execute_result"
    }
   ],
   "source": [
    "df = pd.DataFrame([{'name': 'Hallie', 'age': 18, 'class': 'Physics', 'email': 'hallie@gmail.com'},\n",
    "                   {'name': 'Jack', 'age': 22, 'class': 'Chemistry', 'email': 'jack@yahoo.uy'},\n",
    "                   {'name': 'Alison', 'age': 20, 'class': 'Biology', 'email': 'alison@gmail.com'},\n",
    "                   {'name': 'Victoria', 'age': 21, 'class': 'Math', 'email': 'victoria@gmail.com'}])\n",
    "df"
   ],
   "metadata": {
    "collapsed": false,
    "ExecuteTime": {
     "end_time": "2023-10-10T03:49:26.325791946Z",
     "start_time": "2023-10-10T03:49:26.253225035Z"
    }
   },
   "id": "49cc29a3ecb24446"
  },
  {
   "cell_type": "markdown",
   "source": [
    "## Atributos de los DataFrames"
   ],
   "metadata": {
    "collapsed": false
   },
   "id": "e0aff641fdd6c940"
  },
  {
   "cell_type": "code",
   "execution_count": 8,
   "outputs": [
    {
     "name": "stdout",
     "output_type": "stream",
     "text": [
      "<class 'pandas.core.frame.DataFrame'>\n",
      "RangeIndex: 4 entries, 0 to 3\n",
      "Data columns (total 4 columns):\n",
      " #   Column  Non-Null Count  Dtype \n",
      "---  ------  --------------  ----- \n",
      " 0   name    4 non-null      object\n",
      " 1   age     4 non-null      int64 \n",
      " 2   class   4 non-null      object\n",
      " 3   email   4 non-null      object\n",
      "dtypes: int64(1), object(3)\n",
      "memory usage: 256.0+ bytes\n"
     ]
    }
   ],
   "source": [
    "df.info()  # Devuelve información (número de filas, número de columnas, índices, tipo de las columnas y memoria usado) sobre el DataFrame df."
   ],
   "metadata": {
    "collapsed": false,
    "ExecuteTime": {
     "end_time": "2023-10-10T03:49:26.328479041Z",
     "start_time": "2023-10-10T03:49:26.267742741Z"
    }
   },
   "id": "484e31bdf6f55744"
  },
  {
   "cell_type": "code",
   "execution_count": 9,
   "outputs": [
    {
     "data": {
      "text/plain": "(4, 4)"
     },
     "execution_count": 9,
     "metadata": {},
     "output_type": "execute_result"
    }
   ],
   "source": [
    "df.shape  # Devuelve una tupla con el número de filas y columnas del DataFrame df."
   ],
   "metadata": {
    "collapsed": false,
    "ExecuteTime": {
     "end_time": "2023-10-10T03:49:26.329000257Z",
     "start_time": "2023-10-10T03:49:26.284917496Z"
    }
   },
   "id": "d7a5760e03e1509c"
  },
  {
   "cell_type": "code",
   "execution_count": 10,
   "outputs": [
    {
     "data": {
      "text/plain": "16"
     },
     "execution_count": 10,
     "metadata": {},
     "output_type": "execute_result"
    }
   ],
   "source": [
    "df.size  # Devuelve el número de elementos del DataFrame."
   ],
   "metadata": {
    "collapsed": false,
    "ExecuteTime": {
     "end_time": "2023-10-10T03:49:26.493493359Z",
     "start_time": "2023-10-10T03:49:26.291851498Z"
    }
   },
   "id": "c0cd2b9b17984e55"
  },
  {
   "cell_type": "code",
   "execution_count": 11,
   "outputs": [
    {
     "data": {
      "text/plain": "Index(['name', 'age', 'class', 'email'], dtype='object')"
     },
     "execution_count": 11,
     "metadata": {},
     "output_type": "execute_result"
    }
   ],
   "source": [
    "df.columns  # Devuelve una lista con los nombres de las columnas del DataFrame df."
   ],
   "metadata": {
    "collapsed": false,
    "ExecuteTime": {
     "end_time": "2023-10-10T03:49:26.493959410Z",
     "start_time": "2023-10-10T03:49:26.334136834Z"
    }
   },
   "id": "f74a5b6e1b66df89"
  },
  {
   "cell_type": "code",
   "execution_count": 12,
   "outputs": [
    {
     "data": {
      "text/plain": "RangeIndex(start=0, stop=4, step=1)"
     },
     "execution_count": 12,
     "metadata": {},
     "output_type": "execute_result"
    }
   ],
   "source": [
    "df.index  # Devuelve una lista con los nombres de las filas del DataFrame df."
   ],
   "metadata": {
    "collapsed": false,
    "ExecuteTime": {
     "end_time": "2023-10-10T03:49:26.494266998Z",
     "start_time": "2023-10-10T03:49:26.334338590Z"
    }
   },
   "id": "dd168501f7f4878b"
  },
  {
   "cell_type": "code",
   "execution_count": 13,
   "outputs": [
    {
     "data": {
      "text/plain": "name     object\nage       int64\nclass    object\nemail    object\ndtype: object"
     },
     "execution_count": 13,
     "metadata": {},
     "output_type": "execute_result"
    }
   ],
   "source": [
    "df.dtypes  # Devuelve una serie con los tipos de datos de las columnas del DataFrame df."
   ],
   "metadata": {
    "collapsed": false,
    "ExecuteTime": {
     "end_time": "2023-10-10T03:49:26.494614722Z",
     "start_time": "2023-10-10T03:49:26.334460974Z"
    }
   },
   "id": "14f1f628b63979f4"
  },
  {
   "cell_type": "code",
   "execution_count": 13,
   "outputs": [],
   "source": [],
   "metadata": {
    "collapsed": false,
    "ExecuteTime": {
     "end_time": "2023-10-10T03:49:26.494790398Z",
     "start_time": "2023-10-10T03:49:26.334601442Z"
    }
   },
   "id": "3664af5913839b42"
  }
 ],
 "metadata": {
  "kernelspec": {
   "display_name": "Python 3",
   "language": "python",
   "name": "python3"
  },
  "language_info": {
   "codemirror_mode": {
    "name": "ipython",
    "version": 2
   },
   "file_extension": ".py",
   "mimetype": "text/x-python",
   "name": "python",
   "nbconvert_exporter": "python",
   "pygments_lexer": "ipython2",
   "version": "2.7.6"
  }
 },
 "nbformat": 4,
 "nbformat_minor": 5
}

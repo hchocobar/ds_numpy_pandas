{
 "cells": [
  {
   "cell_type": "markdown",
   "source": [
    "# Introducción a Numpy\n",
    "\n",
    "Numerical Python Library\n",
    "\n",
    "\n",
    "> NumPy es una biblioteca de Python que da soporte para crear vectores y matrices grandes multidimensionales, junto con una gran colección de funciones matemáticas de alto nivel para operar con ellas.\n",
    "\n",
    "Sitio oficial: [numpy.org](https://numpy.org)\n",
    "Documentación oficial: [numpy.org/doc/stable/](https://numpy.org/doc/stable/)"
   ],
   "metadata": {
    "collapsed": false
   },
   "id": "5f37c9584423beba"
  },
  {
   "cell_type": "code",
   "execution_count": 1,
   "outputs": [],
   "source": [
    "import numpy as np"
   ],
   "metadata": {
    "collapsed": false,
    "ExecuteTime": {
     "end_time": "2023-10-08T23:24:02.097135197Z",
     "start_time": "2023-10-08T23:24:02.051033498Z"
    }
   },
   "id": "initial_id"
  },
  {
   "cell_type": "markdown",
   "source": [
    "## Indexing"
   ],
   "metadata": {
    "collapsed": false
   },
   "id": "9a3503520724f867"
  },
  {
   "cell_type": "code",
   "execution_count": 2,
   "outputs": [
    {
     "data": {
      "text/plain": "5"
     },
     "execution_count": 2,
     "metadata": {},
     "output_type": "execute_result"
    }
   ],
   "source": [
    "# Para acceder a un elemento en un array unidimensional, simplemente utilizamos su índice\n",
    "a = np.array([1, 3, 5, 7])\n",
    "a[2]"
   ],
   "metadata": {
    "collapsed": false,
    "ExecuteTime": {
     "end_time": "2023-10-08T23:24:02.116268610Z",
     "start_time": "2023-10-08T23:24:02.104778421Z"
    }
   },
   "id": "2a999bf22d7558af"
  },
  {
   "cell_type": "code",
   "execution_count": 3,
   "outputs": [
    {
     "name": "stdout",
     "output_type": "stream",
     "text": [
      "[[1 2]\n",
      " [3 4]\n",
      " [5 6]]\n",
      "6\n"
     ]
    }
   ],
   "source": [
    "# Para arrays multidimensionales, debemos utilizar su índice completo\n",
    "a = np.array([[1, 2 ], [3, 4], [5, 6]])\n",
    "print(a)\n",
    "print(a[2, 1])  # output: 6"
   ],
   "metadata": {
    "collapsed": false,
    "ExecuteTime": {
     "end_time": "2023-10-08T23:24:02.170746468Z",
     "start_time": "2023-10-08T23:24:02.130785315Z"
    }
   },
   "id": "4c9f98973b358128"
  },
  {
   "cell_type": "markdown",
   "source": [
    "## Slicing\n",
    "\n",
    "Slicing es una forma de crear un subarray basado en el array original.\n",
    "\n",
    "Slicing tiene el siguiente tres argumentos separados por `:`\n",
    "- el primero hace referencia al índice del elemento inicial.\n",
    "- el segundo hace referencia al índice del último elemento, pero no lo incluye.\n",
    "- el tercero hace referencia al salto.\n",
    "\n",
    "Si algunos de estos argumentos se omiten, toman su valor por defecto (default)\n",
    "\n",
    "Ejemplo:\n",
    "```python\n",
    "foo = [a, b, c, d, e, f, g, h, i, j, q]\n",
    "foo[0:3:1]  # Output [a, b, c]\n",
    "foo[2:7:1]  # Output [c, d, e, f, g]\n",
    "foo[1:10:2]  # Output [b, d, f, h, j]"
   ],
   "metadata": {
    "collapsed": false
   },
   "id": "d1eb753082f35524"
  },
  {
   "cell_type": "code",
   "execution_count": 4,
   "outputs": [
    {
     "name": "stdout",
     "output_type": "stream",
     "text": [
      "[0 1 2]\n"
     ]
    }
   ],
   "source": [
    "# Para arrays unidimensionales, slicing funciona igual que para las listas de Python.\n",
    "a = np.array([0, 1, 2, 3, 4, 5])\n",
    "print(a[:3])"
   ],
   "metadata": {
    "collapsed": false,
    "ExecuteTime": {
     "end_time": "2023-10-08T23:24:02.171338739Z",
     "start_time": "2023-10-08T23:24:02.151805753Z"
    }
   },
   "id": "3434d3f70c54f592"
  },
  {
   "cell_type": "code",
   "execution_count": 5,
   "outputs": [
    {
     "name": "stdout",
     "output_type": "stream",
     "text": [
      "[[ 1  2  3  4]\n",
      " [ 5  6  7  8]\n",
      " [ 9 10 11 12]]\n"
     ]
    }
   ],
   "source": [
    "# Para arrays bidimensionales, slicing nos permite dos argumentos, el primero filtrará las filas, y el segundo filtrará las columnas.\n",
    "a = np.array([[1, 2, 3, 4], [5, 6, 7, 8], [9, 10, 11, 12]])\n",
    "print(a)"
   ],
   "metadata": {
    "collapsed": false,
    "ExecuteTime": {
     "end_time": "2023-10-08T23:24:02.172057495Z",
     "start_time": "2023-10-08T23:24:02.159867268Z"
    }
   },
   "id": "469f36e2300753a9"
  },
  {
   "cell_type": "code",
   "execution_count": 6,
   "outputs": [
    {
     "name": "stdout",
     "output_type": "stream",
     "text": [
      "[[1 2 3 4]\n",
      " [5 6 7 8]]\n"
     ]
    }
   ],
   "source": [
    "# Primero, trabajemos con un solo argumento, por ejemplo: a[:2]\n",
    "print(a[:2])  # obtenemos la fila 0 y la fila 1"
   ],
   "metadata": {
    "collapsed": false,
    "ExecuteTime": {
     "start_time": "2023-10-08T23:24:02.188508649Z"
    }
   },
   "id": "b59837be38112895"
  },
  {
   "cell_type": "code",
   "execution_count": 7,
   "outputs": [
    {
     "name": "stdout",
     "output_type": "stream",
     "text": [
      "[[2 3]\n",
      " [6 7]]\n"
     ]
    }
   ],
   "source": [
    "# A continuación, agregamos el segundo argumento, por ejemplo a[:2, 1:3]\n",
    "print(a[:2, 1:3])  # Obtenemos las filas 0 y 1, pero solo los elementos de la segunda y tercera columna"
   ],
   "metadata": {
    "collapsed": false,
    "ExecuteTime": {
     "start_time": "2023-10-08T23:24:02.188711892Z"
    }
   },
   "id": "c472f9c27e98b86a"
  }
 ],
 "metadata": {
  "kernelspec": {
   "display_name": "Python 3",
   "language": "python",
   "name": "python3"
  },
  "language_info": {
   "codemirror_mode": {
    "name": "ipython",
    "version": 2
   },
   "file_extension": ".py",
   "mimetype": "text/x-python",
   "name": "python",
   "nbconvert_exporter": "python",
   "pygments_lexer": "ipython2",
   "version": "2.7.6"
  }
 },
 "nbformat": 4,
 "nbformat_minor": 5
}

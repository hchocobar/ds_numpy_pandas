{
 "cells": [
  {
   "cell_type": "markdown",
   "source": [
    "# Introducción a Pandas\n",
    "\n",
    "> Pandas es una librería de Python escrita como extensión de NumPy para manipulación y análisis de datos.\n",
    "\n",
    "Sitio oficial: [pandas.python.org](https://pandas.pydata.org/)\n",
    "Documentación Oficial: [pandas.pydata.org/pandas-docs/stable/](https://pandas.pydata.org/pandas-docs/stable/)"
   ],
   "metadata": {
    "collapsed": false
   },
   "id": "cc8dd1e7022c0deb"
  },
  {
   "cell_type": "code",
   "execution_count": 1,
   "id": "initial_id",
   "metadata": {
    "collapsed": true,
    "ExecuteTime": {
     "end_time": "2023-10-09T04:01:04.263143185Z",
     "start_time": "2023-10-09T04:01:03.754074843Z"
    }
   },
   "outputs": [],
   "source": [
    "import pandas as pd"
   ]
  },
  {
   "cell_type": "markdown",
   "source": [
    "## Series\n",
    "\n",
    "Las Series son estructuras similares a los arrays de una dimensión. Son homogéneas, es decir, sus elementos tienen que ser del mismo tipo, y su tamaño es inmutable, es decir, no se puede cambiar, aunque si su contenido.\n",
    "\n",
    "Disponen de un índice que asocia un nombre a cada elemento de la serie, a través de la cual se accede al elemento.\n",
    "\n",
    "### Creación de una Serie a partir de una lista\n",
    "\n",
    "`Series(data=lista, index=indices, dtype=tipo)`\n",
    "\n",
    "Devuelve un objeto de tipo Series con los datos de la lista `lista`, las filas especificadas en la lista `indices` y el tipo de datos indicado en `tipo`. Si no incluímos la lista de índices se utilizan como índices los enteros del 0 al `n-1`, donde `n` es el tamaño de la serie. Si incluímos el tipo de dato, entonces este se infiere."
   ],
   "metadata": {
    "collapsed": false
   },
   "id": "6f8e28a9c704eee0"
  },
  {
   "cell_type": "code",
   "execution_count": 2,
   "outputs": [
    {
     "data": {
      "text/plain": "0      Mathew\n1      Hallie\n2        Jack\n3      Alison\n4    Victoria\ndtype: object"
     },
     "execution_count": 2,
     "metadata": {},
     "output_type": "execute_result"
    }
   ],
   "source": [
    "students = ['Mathew', 'Hallie', 'Jack', 'Alison', 'Victoria']\n",
    "pd.Series(students)"
   ],
   "metadata": {
    "collapsed": false,
    "ExecuteTime": {
     "end_time": "2023-10-09T04:01:04.271621525Z",
     "start_time": "2023-10-09T04:01:04.256943760Z"
    }
   },
   "id": "fbad7e17a5f1a002"
  },
  {
   "cell_type": "code",
   "execution_count": 3,
   "outputs": [
    {
     "data": {
      "text/plain": "0      Mathew\n1      Hallie\n2        Jack\n3      Alison\n4    Victoria\ndtype: string"
     },
     "execution_count": 3,
     "metadata": {},
     "output_type": "execute_result"
    }
   ],
   "source": [
    "# Notemos que pandas automáticamente asignó el tipo de dato en la serie como \"object\" y configuró el parámetro dtype.\n",
    "# También notemos que asigno valores a los índices, otorgándoles números enteros que inician en cero.\n",
    "pd.Series(students, dtype='string')"
   ],
   "metadata": {
    "collapsed": false,
    "ExecuteTime": {
     "end_time": "2023-10-09T04:01:04.274758534Z",
     "start_time": "2023-10-09T04:01:04.262965155Z"
    }
   },
   "id": "ef1539bcc21cb412"
  },
  {
   "cell_type": "code",
   "execution_count": 4,
   "outputs": [
    {
     "data": {
      "text/plain": "0    1\n1    2\n2    3\ndtype: int64"
     },
     "execution_count": 4,
     "metadata": {},
     "output_type": "execute_result"
    }
   ],
   "source": [
    "# Si creamos una serie a partir de una lista de números, veremos que pandas establece el tipo como 'int64'.\n",
    "# Pandas almacena los valores de la serie en una matriz tipada utilizando la biblioteca Numpy.\n",
    "# Esto nos brinda una aceleración significativa al procesar datos en comparación con las listas tradicionales de Python.\n",
    "numbers = [1, 2, 3,]\n",
    "pd.Series(numbers)"
   ],
   "metadata": {
    "collapsed": false,
    "ExecuteTime": {
     "end_time": "2023-10-09T04:01:04.284548181Z",
     "start_time": "2023-10-09T04:01:04.263683772Z"
    }
   },
   "id": "df73a69dcfc9a718"
  },
  {
   "cell_type": "markdown",
   "source": [
    "### Creación de una Serie a partir de un diccionario\n",
    "\n",
    "`Series(data=diccionario, index=indices)` \n",
    "\n",
    "Devuelve un objeto de tipo Series con los valores del diccionario `diccionario` y las filas especificados en la lista `indices`. Si no incluímos la lista de índices se utilizan como índices las claves del diccionario."
   ],
   "metadata": {
    "collapsed": false
   },
   "id": "4b7c0a46bb403a21"
  },
  {
   "cell_type": "code",
   "execution_count": 5,
   "outputs": [
    {
     "name": "stdout",
     "output_type": "stream",
     "text": [
      "Mathew        Physics\n",
      "Hallie      Chemistry\n",
      "Jack          English\n",
      "Alison           Math\n",
      "Victoria      History\n",
      "dtype: object\n"
     ]
    }
   ],
   "source": [
    "students_scores = {'Mathew': 'Physics', \n",
    "                   'Hallie': 'Chemistry', \n",
    "                   'Jack': 'English', \n",
    "                   'Alison': 'Math', \n",
    "                   'Victoria': 'History'}\n",
    "s = pd.Series(students_scores)\n",
    "print(s)"
   ],
   "metadata": {
    "collapsed": false,
    "ExecuteTime": {
     "end_time": "2023-10-09T04:01:04.287337441Z",
     "start_time": "2023-10-09T04:01:04.264215069Z"
    }
   },
   "id": "93d5f82ba9a4c5dc"
  },
  {
   "cell_type": "markdown",
   "source": [
    "### Atributos de las Series"
   ],
   "metadata": {
    "collapsed": false
   },
   "id": "bd66e2bca0cc05de"
  },
  {
   "cell_type": "code",
   "execution_count": 6,
   "outputs": [
    {
     "data": {
      "text/plain": "5"
     },
     "execution_count": 6,
     "metadata": {},
     "output_type": "execute_result"
    }
   ],
   "source": [
    "s.size  # Devuelve el número de elementos de la serie s."
   ],
   "metadata": {
    "collapsed": false,
    "ExecuteTime": {
     "end_time": "2023-10-09T04:01:04.288774675Z",
     "start_time": "2023-10-09T04:01:04.267390702Z"
    }
   },
   "id": "bdf985d831a0fdf1"
  },
  {
   "cell_type": "code",
   "execution_count": 7,
   "outputs": [
    {
     "data": {
      "text/plain": "Index(['Mathew', 'Hallie', 'Jack', 'Alison', 'Victoria'], dtype='object')"
     },
     "execution_count": 7,
     "metadata": {},
     "output_type": "execute_result"
    }
   ],
   "source": [
    "s.index  # Devuelve una lista con los nombres de las filas del DataFrame s."
   ],
   "metadata": {
    "collapsed": false,
    "ExecuteTime": {
     "end_time": "2023-10-09T04:01:04.303400966Z",
     "start_time": "2023-10-09T04:01:04.268434928Z"
    }
   },
   "id": "49cc29a3ecb24446"
  },
  {
   "cell_type": "code",
   "execution_count": 8,
   "outputs": [
    {
     "data": {
      "text/plain": "dtype('O')"
     },
     "execution_count": 8,
     "metadata": {},
     "output_type": "execute_result"
    }
   ],
   "source": [
    "s.dtype  # Devuelve el tipo de datos de los elementos de la serie s."
   ],
   "metadata": {
    "collapsed": false,
    "ExecuteTime": {
     "end_time": "2023-10-09T04:01:04.505104038Z",
     "start_time": "2023-10-09T04:01:04.289364431Z"
    }
   },
   "id": "14f1f628b63979f4"
  },
  {
   "cell_type": "code",
   "execution_count": 8,
   "outputs": [],
   "source": [],
   "metadata": {
    "collapsed": false,
    "ExecuteTime": {
     "end_time": "2023-10-09T04:01:04.507733775Z",
     "start_time": "2023-10-09T04:01:04.335630266Z"
    }
   },
   "id": "3664af5913839b42"
  }
 ],
 "metadata": {
  "kernelspec": {
   "display_name": "Python 3",
   "language": "python",
   "name": "python3"
  },
  "language_info": {
   "codemirror_mode": {
    "name": "ipython",
    "version": 2
   },
   "file_extension": ".py",
   "mimetype": "text/x-python",
   "name": "python",
   "nbconvert_exporter": "python",
   "pygments_lexer": "ipython2",
   "version": "2.7.6"
  }
 },
 "nbformat": 4,
 "nbformat_minor": 5
}

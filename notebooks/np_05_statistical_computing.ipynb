{
 "cells": [
  {
   "cell_type": "markdown",
   "id": "35a315b9",
   "metadata": {},
   "source": [
    "# Statistical Computing, Probability & Random Sampling with NumPy"
   ]
  },
  {
   "cell_type": "markdown",
   "id": "6e1416da",
   "metadata": {},
   "source": [
    "\n",
    "## 1. Introducción a NumPy\n",
    "\n",
    "**NumPy** (*Numerical Python*) es una de las librerías fundamentales para el análisis numérico y científico en Python.  \n",
    "Proporciona estructuras de datos eficientes (como los **arrays multidimensionales**), y funciones optimizadas para operaciones matemáticas, estadísticas y de álgebra lineal.\n"
   ]
  },
  {
   "cell_type": "markdown",
   "id": "c65c33ea",
   "metadata": {},
   "source": [
    "### Instalación"
   ]
  },
  {
   "cell_type": "code",
   "execution_count": null,
   "id": "458cc69e",
   "metadata": {},
   "outputs": [],
   "source": [
    "!pip install numpy"
   ]
  },
  {
   "cell_type": "markdown",
   "id": "ef4fdffb",
   "metadata": {},
   "source": [
    "### Importación básica"
   ]
  },
  {
   "cell_type": "code",
   "execution_count": null,
   "id": "92981de8",
   "metadata": {},
   "outputs": [],
   "source": [
    "import numpy as np"
   ]
  },
  {
   "cell_type": "markdown",
   "id": "1a2edd35",
   "metadata": {},
   "source": [
    "### Arrays y operaciones básicas"
   ]
  },
  {
   "cell_type": "code",
   "execution_count": null,
   "id": "40883fe4",
   "metadata": {},
   "outputs": [],
   "source": [
    "a = np.array([1, 2, 3, 4, 5])\n",
    "a"
   ]
  },
  {
   "cell_type": "code",
   "execution_count": null,
   "id": "7e8a6dbd",
   "metadata": {},
   "outputs": [],
   "source": [
    "a.ndim, a.shape, a.dtype"
   ]
  },
  {
   "cell_type": "code",
   "execution_count": null,
   "id": "dd72eb5d",
   "metadata": {},
   "outputs": [],
   "source": [
    "b = a * 2\n",
    "b"
   ]
  },
  {
   "cell_type": "code",
   "execution_count": null,
   "id": "11ca2f22",
   "metadata": {},
   "outputs": [],
   "source": [
    "c = np.sqrt(a)\n",
    "c"
   ]
  },
  {
   "cell_type": "markdown",
   "id": "60ccf572",
   "metadata": {},
   "source": [
    "## 2. Cálculo estadístico con NumPy"
   ]
  },
  {
   "cell_type": "code",
   "execution_count": null,
   "id": "ca8eb751",
   "metadata": {},
   "outputs": [],
   "source": [
    "data = np.array([12, 15, 20, 22, 21, 18, 19])"
   ]
  },
  {
   "cell_type": "code",
   "execution_count": null,
   "id": "6a871e71",
   "metadata": {},
   "outputs": [],
   "source": [
    "np.mean(data)"
   ]
  },
  {
   "cell_type": "code",
   "execution_count": null,
   "id": "a51ad7ab",
   "metadata": {},
   "outputs": [],
   "source": [
    "np.median(data)"
   ]
  },
  {
   "cell_type": "code",
   "execution_count": null,
   "id": "a08acf81",
   "metadata": {},
   "outputs": [],
   "source": [
    "np.var(data)"
   ]
  },
  {
   "cell_type": "code",
   "execution_count": null,
   "id": "d6c102fa",
   "metadata": {},
   "outputs": [],
   "source": [
    "np.std(data)"
   ]
  },
  {
   "cell_type": "code",
   "execution_count": null,
   "id": "f560960b",
   "metadata": {},
   "outputs": [],
   "source": [
    "np.min(data), np.max(data)"
   ]
  },
  {
   "cell_type": "markdown",
   "id": "99a1822e",
   "metadata": {},
   "source": [
    "### Ejemplo aplicado"
   ]
  },
  {
   "cell_type": "code",
   "execution_count": null,
   "id": "35867cf4",
   "metadata": {},
   "outputs": [],
   "source": [
    "incomes = np.array([350, 420, 290, 510, 480, 610, 430])"
   ]
  },
  {
   "cell_type": "code",
   "execution_count": null,
   "id": "9bffba5e",
   "metadata": {},
   "outputs": [],
   "source": [
    "np.mean(incomes)"
   ]
  },
  {
   "cell_type": "code",
   "execution_count": null,
   "id": "ae5cf667",
   "metadata": {},
   "outputs": [],
   "source": [
    "np.std(incomes)"
   ]
  },
  {
   "cell_type": "markdown",
   "id": "23aebced",
   "metadata": {},
   "source": [
    "## 3. Probabilidad y generación de distribuciones aleatorias"
   ]
  },
  {
   "cell_type": "code",
   "execution_count": null,
   "id": "00a47c24",
   "metadata": {},
   "outputs": [],
   "source": [
    "np.random.rand(5)"
   ]
  },
  {
   "cell_type": "code",
   "execution_count": null,
   "id": "8bc83e81",
   "metadata": {},
   "outputs": [],
   "source": [
    "np.random.randint(0, 100, size=5)"
   ]
  },
  {
   "cell_type": "markdown",
   "id": "842c0976",
   "metadata": {},
   "source": [
    "## 4. Distribuciones comunes"
   ]
  },
  {
   "cell_type": "code",
   "execution_count": null,
   "id": "12cb258f",
   "metadata": {},
   "outputs": [],
   "source": [
    "np.random.uniform(low=0, high=10, size=10)"
   ]
  },
  {
   "cell_type": "code",
   "execution_count": null,
   "id": "6d4a3208",
   "metadata": {},
   "outputs": [],
   "source": [
    "np.random.normal(loc=0, scale=1, size=10)"
   ]
  },
  {
   "cell_type": "code",
   "execution_count": null,
   "id": "f7496c61",
   "metadata": {},
   "outputs": [],
   "source": [
    "np.random.binomial(n=10, p=0.5, size=10)"
   ]
  },
  {
   "cell_type": "code",
   "execution_count": null,
   "id": "e3eed5a9",
   "metadata": {},
   "outputs": [],
   "source": [
    "np.random.poisson(lam=3, size=10)"
   ]
  },
  {
   "cell_type": "markdown",
   "id": "747b636c",
   "metadata": {},
   "source": [
    "## 5. Muestreo aleatorio"
   ]
  },
  {
   "cell_type": "code",
   "execution_count": null,
   "id": "c0949bca",
   "metadata": {},
   "outputs": [],
   "source": [
    "productos = np.array(['A', 'B', 'C', 'D', 'E'])"
   ]
  },
  {
   "cell_type": "code",
   "execution_count": null,
   "id": "9b92cdd8",
   "metadata": {},
   "outputs": [],
   "source": [
    "np.random.choice(productos, size=3, replace=False)"
   ]
  },
  {
   "cell_type": "markdown",
   "id": "50298fd9",
   "metadata": {},
   "source": [
    "## 6. Ejemplo integrador"
   ]
  },
  {
   "cell_type": "code",
   "execution_count": null,
   "id": "f11af1f5",
   "metadata": {},
   "outputs": [],
   "source": [
    "ventas = np.random.normal(loc=200, scale=30, size=30)\n",
    "ventas"
   ]
  },
  {
   "cell_type": "code",
   "execution_count": null,
   "id": "b9cee066",
   "metadata": {},
   "outputs": [],
   "source": [
    "np.mean(ventas)"
   ]
  },
  {
   "cell_type": "code",
   "execution_count": null,
   "id": "5784609a",
   "metadata": {},
   "outputs": [],
   "source": [
    "np.std(ventas)"
   ]
  },
  {
   "cell_type": "code",
   "execution_count": null,
   "id": "69609fee",
   "metadata": {},
   "outputs": [],
   "source": [
    "np.max(ventas)"
   ]
  },
  {
   "cell_type": "markdown",
   "id": "95917224",
   "metadata": {},
   "source": [
    "\n",
    "## 7. Conclusión\n",
    "\n",
    "NumPy es una herramienta esencial para el análisis de datos en Python.  \n",
    "Permite realizar cálculos estadísticos y simulaciones probabilísticas con gran eficiencia, siendo una base sólida para trabajar luego con librerías como **Pandas**, **SciPy** o **scikit-learn**.\n"
   ]
  },
  {
   "cell_type": "markdown",
   "id": "3ddd8cd6",
   "metadata": {},
   "source": [
    "\n",
    "📘 **Próximos pasos sugeridos:**\n",
    "- Visualizar distribuciones con **Matplotlib** o **Seaborn**.  \n",
    "- Comparar distribuciones teóricas y empíricas.  \n",
    "- Aplicar conceptos de inferencia estadística.\n"
   ]
  }
 ],
 "metadata": {},
 "nbformat": 4,
 "nbformat_minor": 5
}

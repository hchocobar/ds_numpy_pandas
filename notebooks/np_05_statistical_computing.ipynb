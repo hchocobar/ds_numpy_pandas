{
 "cells": [
  {
   "cell_type": "markdown",
   "id": "35a315b9",
   "metadata": {},
   "source": [
    "# Statistical Computing, Probability & Random Sampling with NumPy"
   ]
  },
  {
   "cell_type": "markdown",
   "id": "6e1416da",
   "metadata": {},
   "source": [
    "\n",
    "## 1. Importación básica"
   ]
  },
  {
   "cell_type": "code",
   "id": "92981de8",
   "metadata": {
    "ExecuteTime": {
     "end_time": "2025-10-28T17:52:19.071361Z",
     "start_time": "2025-10-28T17:52:18.971133Z"
    }
   },
   "source": [
    "import numpy as np"
   ],
   "outputs": [],
   "execution_count": 1
  },
  {
   "cell_type": "markdown",
   "id": "60ccf572",
   "metadata": {},
   "source": [
    "## 2. Cálculo estadístico con NumPy"
   ]
  },
  {
   "cell_type": "code",
   "id": "ca8eb751",
   "metadata": {
    "ExecuteTime": {
     "end_time": "2025-10-28T17:52:19.093016Z",
     "start_time": "2025-10-28T17:52:19.089343Z"
    }
   },
   "source": [
    "data = np.array([12, 15, 20, 22, 21, 18, 19])"
   ],
   "outputs": [],
   "execution_count": 2
  },
  {
   "cell_type": "code",
   "id": "6a871e71",
   "metadata": {
    "ExecuteTime": {
     "end_time": "2025-10-28T17:52:19.149629Z",
     "start_time": "2025-10-28T17:52:19.140295Z"
    }
   },
   "source": [
    "np.mean(data)"
   ],
   "outputs": [
    {
     "data": {
      "text/plain": [
       "18.142857142857142"
      ]
     },
     "execution_count": 3,
     "metadata": {},
     "output_type": "execute_result"
    }
   ],
   "execution_count": 3
  },
  {
   "cell_type": "code",
   "id": "a51ad7ab",
   "metadata": {
    "ExecuteTime": {
     "end_time": "2025-10-28T17:52:19.204613Z",
     "start_time": "2025-10-28T17:52:19.198165Z"
    }
   },
   "source": [
    "np.median(data)"
   ],
   "outputs": [
    {
     "data": {
      "text/plain": [
       "19.0"
      ]
     },
     "execution_count": 4,
     "metadata": {},
     "output_type": "execute_result"
    }
   ],
   "execution_count": 4
  },
  {
   "cell_type": "code",
   "id": "a08acf81",
   "metadata": {
    "ExecuteTime": {
     "end_time": "2025-10-28T17:52:19.299677Z",
     "start_time": "2025-10-28T17:52:19.292951Z"
    }
   },
   "source": [
    "np.var(data)"
   ],
   "outputs": [
    {
     "data": {
      "text/plain": [
       "10.693877551020408"
      ]
     },
     "execution_count": 5,
     "metadata": {},
     "output_type": "execute_result"
    }
   ],
   "execution_count": 5
  },
  {
   "cell_type": "code",
   "id": "d6c102fa",
   "metadata": {
    "ExecuteTime": {
     "end_time": "2025-10-28T17:52:19.325831Z",
     "start_time": "2025-10-28T17:52:19.319736Z"
    }
   },
   "source": [
    "np.std(data)"
   ],
   "outputs": [
    {
     "data": {
      "text/plain": [
       "3.270149469217028"
      ]
     },
     "execution_count": 6,
     "metadata": {},
     "output_type": "execute_result"
    }
   ],
   "execution_count": 6
  },
  {
   "cell_type": "code",
   "id": "f560960b",
   "metadata": {
    "ExecuteTime": {
     "end_time": "2025-10-28T17:52:19.401980Z",
     "start_time": "2025-10-28T17:52:19.390462Z"
    }
   },
   "source": [
    "np.min(data), np.max(data)"
   ],
   "outputs": [
    {
     "data": {
      "text/plain": [
       "(12, 22)"
      ]
     },
     "execution_count": 7,
     "metadata": {},
     "output_type": "execute_result"
    }
   ],
   "execution_count": 7
  },
  {
   "cell_type": "markdown",
   "id": "99a1822e",
   "metadata": {},
   "source": [
    "### Ejemplo aplicado"
   ]
  },
  {
   "cell_type": "code",
   "id": "35867cf4",
   "metadata": {
    "ExecuteTime": {
     "end_time": "2025-10-28T17:52:19.494108Z",
     "start_time": "2025-10-28T17:52:19.485032Z"
    }
   },
   "source": [
    "incomes = np.array([350, 420, 290, 510, 480, 610, 430])"
   ],
   "outputs": [],
   "execution_count": 8
  },
  {
   "cell_type": "code",
   "id": "9bffba5e",
   "metadata": {
    "ExecuteTime": {
     "end_time": "2025-10-28T17:52:19.536839Z",
     "start_time": "2025-10-28T17:52:19.524659Z"
    }
   },
   "source": [
    "np.mean(incomes)"
   ],
   "outputs": [
    {
     "data": {
      "text/plain": [
       "441.42857142857144"
      ]
     },
     "execution_count": 9,
     "metadata": {},
     "output_type": "execute_result"
    }
   ],
   "execution_count": 9
  },
  {
   "cell_type": "code",
   "id": "ae5cf667",
   "metadata": {
    "ExecuteTime": {
     "end_time": "2025-10-28T17:52:19.593689Z",
     "start_time": "2025-10-28T17:52:19.581948Z"
    }
   },
   "source": [
    "np.std(incomes)"
   ],
   "outputs": [
    {
     "data": {
      "text/plain": [
       "97.45747371891737"
      ]
     },
     "execution_count": 10,
     "metadata": {},
     "output_type": "execute_result"
    }
   ],
   "execution_count": 10
  },
  {
   "cell_type": "markdown",
   "id": "23aebced",
   "metadata": {},
   "source": [
    "## 3. Probabilidad y generación de distribuciones aleatorias"
   ]
  },
  {
   "cell_type": "code",
   "id": "00a47c24",
   "metadata": {
    "ExecuteTime": {
     "end_time": "2025-10-28T17:52:19.643284Z",
     "start_time": "2025-10-28T17:52:19.636797Z"
    }
   },
   "source": [
    "np.random.rand(5)"
   ],
   "outputs": [
    {
     "data": {
      "text/plain": [
       "array([0.31441125, 0.94338781, 0.23071539, 0.53051187, 0.44900459])"
      ]
     },
     "execution_count": 11,
     "metadata": {},
     "output_type": "execute_result"
    }
   ],
   "execution_count": 11
  },
  {
   "cell_type": "code",
   "id": "8bc83e81",
   "metadata": {
    "ExecuteTime": {
     "end_time": "2025-10-28T17:52:19.717904Z",
     "start_time": "2025-10-28T17:52:19.709143Z"
    }
   },
   "source": [
    "np.random.randint(0, 100, size=5)"
   ],
   "outputs": [
    {
     "data": {
      "text/plain": [
       "array([13, 50, 61, 29, 18])"
      ]
     },
     "execution_count": 12,
     "metadata": {},
     "output_type": "execute_result"
    }
   ],
   "execution_count": 12
  },
  {
   "cell_type": "markdown",
   "id": "842c0976",
   "metadata": {},
   "source": [
    "## 4. Distribuciones comunes"
   ]
  },
  {
   "cell_type": "code",
   "id": "12cb258f",
   "metadata": {
    "ExecuteTime": {
     "end_time": "2025-10-28T17:52:19.785043Z",
     "start_time": "2025-10-28T17:52:19.774708Z"
    }
   },
   "source": [
    "np.random.uniform(low=0, high=10, size=10)"
   ],
   "outputs": [
    {
     "data": {
      "text/plain": [
       "array([1.53089862, 7.3562653 , 2.37519536, 1.04416155, 9.32546303,\n",
       "       7.35853023, 4.74138488, 7.89779583, 3.83282837, 1.49568509])"
      ]
     },
     "execution_count": 13,
     "metadata": {},
     "output_type": "execute_result"
    }
   ],
   "execution_count": 13
  },
  {
   "cell_type": "code",
   "id": "6d4a3208",
   "metadata": {
    "ExecuteTime": {
     "end_time": "2025-10-28T17:52:19.847297Z",
     "start_time": "2025-10-28T17:52:19.834094Z"
    }
   },
   "source": [
    "np.random.normal(loc=0, scale=1, size=10)"
   ],
   "outputs": [
    {
     "data": {
      "text/plain": [
       "array([ 0.8864004 , -0.14215098, -0.65266429,  2.15325483,  0.05147048,\n",
       "       -0.213016  ,  1.31062006,  2.43409318,  0.38788576,  1.2190405 ])"
      ]
     },
     "execution_count": 14,
     "metadata": {},
     "output_type": "execute_result"
    }
   ],
   "execution_count": 14
  },
  {
   "cell_type": "code",
   "id": "f7496c61",
   "metadata": {
    "ExecuteTime": {
     "end_time": "2025-10-28T17:52:19.932146Z",
     "start_time": "2025-10-28T17:52:19.925377Z"
    }
   },
   "source": [
    "np.random.binomial(n=10, p=0.5, size=10)"
   ],
   "outputs": [
    {
     "data": {
      "text/plain": [
       "array([6, 4, 4, 7, 6, 5, 3, 7, 4, 8])"
      ]
     },
     "execution_count": 15,
     "metadata": {},
     "output_type": "execute_result"
    }
   ],
   "execution_count": 15
  },
  {
   "cell_type": "code",
   "id": "e3eed5a9",
   "metadata": {
    "ExecuteTime": {
     "end_time": "2025-10-28T17:52:20.002092Z",
     "start_time": "2025-10-28T17:52:19.988129Z"
    }
   },
   "source": [
    "np.random.poisson(lam=3, size=10)"
   ],
   "outputs": [
    {
     "data": {
      "text/plain": [
       "array([0, 4, 4, 4, 4, 3, 4, 5, 2, 0])"
      ]
     },
     "execution_count": 16,
     "metadata": {},
     "output_type": "execute_result"
    }
   ],
   "execution_count": 16
  },
  {
   "cell_type": "markdown",
   "id": "747b636c",
   "metadata": {},
   "source": [
    "## 5. Muestreo aleatorio"
   ]
  },
  {
   "cell_type": "code",
   "id": "c0949bca",
   "metadata": {
    "ExecuteTime": {
     "end_time": "2025-10-28T17:52:20.061053Z",
     "start_time": "2025-10-28T17:52:20.051498Z"
    }
   },
   "source": [
    "productos = np.array(['A', 'B', 'C', 'D', 'E'])"
   ],
   "outputs": [],
   "execution_count": 17
  },
  {
   "cell_type": "code",
   "id": "9b92cdd8",
   "metadata": {
    "ExecuteTime": {
     "end_time": "2025-10-28T17:52:20.114215Z",
     "start_time": "2025-10-28T17:52:20.106312Z"
    }
   },
   "source": [
    "np.random.choice(productos, size=3, replace=False)"
   ],
   "outputs": [
    {
     "data": {
      "text/plain": [
       "array(['B', 'E', 'C'], dtype='<U1')"
      ]
     },
     "execution_count": 18,
     "metadata": {},
     "output_type": "execute_result"
    }
   ],
   "execution_count": 18
  },
  {
   "cell_type": "markdown",
   "id": "50298fd9",
   "metadata": {},
   "source": [
    "## 6. Ejemplo integrador"
   ]
  },
  {
   "cell_type": "code",
   "id": "f11af1f5",
   "metadata": {
    "ExecuteTime": {
     "end_time": "2025-10-28T17:52:20.173931Z",
     "start_time": "2025-10-28T17:52:20.165596Z"
    }
   },
   "source": [
    "ventas = np.random.normal(loc=200, scale=30, size=30)\n",
    "ventas"
   ],
   "outputs": [
    {
     "data": {
      "text/plain": [
       "array([176.16027947, 171.07662012, 176.09398078, 182.02365459,\n",
       "       188.68800498, 147.43280458, 157.80531321, 222.8080942 ,\n",
       "       218.59666446, 266.29325216, 205.60920988, 210.70929534,\n",
       "       212.38779735, 266.23863967, 214.54777667, 165.10500916,\n",
       "       199.53675699, 198.16953482, 213.66879625, 146.18752946,\n",
       "       233.04782301, 171.92978752, 229.70342463, 204.86916374,\n",
       "       173.6279349 , 199.72234828, 220.95218963, 206.18706062,\n",
       "       176.82659731, 263.42308501])"
      ]
     },
     "execution_count": 19,
     "metadata": {},
     "output_type": "execute_result"
    }
   ],
   "execution_count": 19
  },
  {
   "cell_type": "code",
   "id": "b9cee066",
   "metadata": {
    "ExecuteTime": {
     "end_time": "2025-10-28T17:52:20.228915Z",
     "start_time": "2025-10-28T17:52:20.223088Z"
    }
   },
   "source": [
    "np.mean(ventas)"
   ],
   "outputs": [
    {
     "data": {
      "text/plain": [
       "200.64761429309513"
      ]
     },
     "execution_count": 20,
     "metadata": {},
     "output_type": "execute_result"
    }
   ],
   "execution_count": 20
  },
  {
   "cell_type": "code",
   "id": "5784609a",
   "metadata": {
    "ExecuteTime": {
     "end_time": "2025-10-28T17:52:20.290540Z",
     "start_time": "2025-10-28T17:52:20.282959Z"
    }
   },
   "source": [
    "np.std(ventas)"
   ],
   "outputs": [
    {
     "data": {
      "text/plain": [
       "31.591422545713016"
      ]
     },
     "execution_count": 21,
     "metadata": {},
     "output_type": "execute_result"
    }
   ],
   "execution_count": 21
  },
  {
   "cell_type": "code",
   "id": "69609fee",
   "metadata": {
    "ExecuteTime": {
     "end_time": "2025-10-28T17:52:20.360844Z",
     "start_time": "2025-10-28T17:52:20.347344Z"
    }
   },
   "source": [
    "np.max(ventas)"
   ],
   "outputs": [
    {
     "data": {
      "text/plain": [
       "266.29325216472233"
      ]
     },
     "execution_count": 22,
     "metadata": {},
     "output_type": "execute_result"
    }
   ],
   "execution_count": 22
  }
 ],
 "metadata": {
  "kernelspec": {
   "name": "python3",
   "language": "python",
   "display_name": "Python 3 (ipykernel)"
  }
 },
 "nbformat": 4,
 "nbformat_minor": 5
}

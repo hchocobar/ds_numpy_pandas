{
 "cells": [
  {
   "cell_type": "markdown",
   "source": [
    "# Introducción a Numpy\n",
    "\n",
    "Numerical Python Library\n",
    "\n",
    "\n",
    "> NumPy es una biblioteca de Python que da soporte para crear vectores y matrices grandes multidimensionales, junto con una gran colección de funciones matemáticas de alto nivel para operar con ellas.\n",
    "\n",
    "Sitio oficial: [numpy.org](https://numpy.org)\n",
    "Documentación oficial: [numpy.org/doc/stable/](https://numpy.org/doc/stable/)"
   ],
   "metadata": {
    "collapsed": false
   },
   "id": "1ad9820f988aa433"
  },
  {
   "cell_type": "code",
   "execution_count": 18,
   "outputs": [],
   "source": [
    "import pandas as pd"
   ],
   "metadata": {
    "collapsed": false,
    "ExecuteTime": {
     "end_time": "2023-10-10T02:26:13.958711038Z",
     "start_time": "2023-10-10T02:26:13.794708946Z"
    }
   },
   "id": "6d3707725ba4a4d2"
  },
  {
   "cell_type": "markdown",
   "source": [
    "## Iterating\n",
    "\n",
    "### Sentencia for\n",
    "\n",
    "La forma estándar de iterar una Serie sería utilizar la sentencia `for`. Pero es un método lento.  "
   ],
   "metadata": {
    "collapsed": false
   },
   "id": "b62157f18c98e33c"
  },
  {
   "cell_type": "code",
   "execution_count": 19,
   "id": "559e8ec46508fb03",
   "metadata": {
    "collapsed": true,
    "ExecuteTime": {
     "end_time": "2023-10-10T02:26:13.990209340Z",
     "start_time": "2023-10-10T02:26:13.815521870Z"
    }
   },
   "outputs": [],
   "source": [
    "# Calculamos un promedio\n",
    "grades = pd.Series([90, 80, 70, 60])"
   ]
  },
  {
   "cell_type": "code",
   "execution_count": 20,
   "outputs": [
    {
     "name": "stdout",
     "output_type": "stream",
     "text": [
      "75.0\n"
     ]
    }
   ],
   "source": [
    "total = 0\n",
    "for grade in grades:\n",
    "    total += grade\n",
    "print(total / len(grades))"
   ],
   "metadata": {
    "collapsed": false,
    "ExecuteTime": {
     "end_time": "2023-10-10T02:26:13.998923897Z",
     "start_time": "2023-10-10T02:26:13.826433388Z"
    }
   },
   "id": "initial_id"
  },
  {
   "cell_type": "markdown",
   "source": [
    "## Vectorización \n",
    "\n",
    "Las computadoras modernas pueden hacer muchas tareas simultáneamente, especialmente, pero no solo las tareas que involucran calculos matemáticos.\n",
    "\n",
    "Pandas, y subyacentemente NumPy, soportan un método de cálculo denominado **Vectorización**.\n",
    "\n",
    "La vectorización en particular funciona con la mayoría de las funciones en la biblioteca NumPy, incluida la función `sum()`."
   ],
   "metadata": {
    "collapsed": false
   },
   "id": "d0a219bcf5ddec5a"
  },
  {
   "cell_type": "code",
   "execution_count": 21,
   "outputs": [],
   "source": [
    "# Entonces, utilizando NumPy\n",
    "import numpy as np"
   ],
   "metadata": {
    "collapsed": false,
    "ExecuteTime": {
     "end_time": "2023-10-10T02:26:13.999258434Z",
     "start_time": "2023-10-10T02:26:13.852671428Z"
    }
   },
   "id": "946b8f8f6ba5b700"
  },
  {
   "cell_type": "code",
   "execution_count": 22,
   "outputs": [
    {
     "name": "stdout",
     "output_type": "stream",
     "text": [
      "75.0\n"
     ]
    }
   ],
   "source": [
    "total = np.sum(grades)\n",
    "print(total / len(grades))"
   ],
   "metadata": {
    "collapsed": false,
    "ExecuteTime": {
     "end_time": "2023-10-10T02:26:13.999569876Z",
     "start_time": "2023-10-10T02:26:13.852969526Z"
    }
   },
   "id": "2cd3b0c51c27b69b"
  },
  {
   "cell_type": "markdown",
   "source": [
    "Hemos logrado el mismo resultado, pero de una manera más rápida, a pesar de que solo estamos trabando con 4 elementos. La pregunta es: ¿Uno de estos métodos es realmente más rápido que el otro?"
   ],
   "metadata": {
    "collapsed": false
   },
   "id": "a4ca210f7a0c8cd0"
  },
  {
   "cell_type": "markdown",
   "source": [
    "## Comparando los métodos \n",
    "\n",
    "Vamos a trabajar con otro ejemplo con una mayor cantidad de datos. Para ello vamos a crear una gran serie de números aleatorios, Esto se utiliza mucho al demostrar técnicas con Pandas, por lo que debemos acostumbrarnos a usarlo."
   ],
   "metadata": {
    "collapsed": false
   },
   "id": "dd7abb84d6d4bac3"
  },
  {
   "cell_type": "code",
   "execution_count": 23,
   "outputs": [
    {
     "data": {
      "text/plain": "(10000,\n 0     37\n 1    165\n 2    691\n 3    787\n 4    940\n dtype: int64)"
     },
     "execution_count": 23,
     "metadata": {},
     "output_type": "execute_result"
    }
   ],
   "source": [
    "# Generamos una serie de 10000 números aleatorios entre 0 y 1000.\n",
    "numbers = pd.Series(np.random.randint(0, 1000, 10000))\n",
    "len(numbers), numbers.head() "
   ],
   "metadata": {
    "collapsed": false,
    "ExecuteTime": {
     "end_time": "2023-10-10T02:26:14.004040526Z",
     "start_time": "2023-10-10T02:26:13.870653003Z"
    }
   },
   "id": "ea3186cb9d1b6cd6"
  },
  {
   "cell_type": "markdown",
   "source": [
    "El intérprete de IPython tiene una función mágica que puede ayudar a medir los tiempos de ejecución:\n",
    "\n",
    "* `%%timeit`, nos permite determinar la cantidad de veces que se ejecutará la celda y nos brinda información sobre el promedio de tiempo que demandó cada ejecución.\n",
    "\n",
    "> Aquí puedes leer más sobre [magic function de IPython](https://ipython.readthedocs.io/en/stable/interactive/magics.html)"
   ],
   "metadata": {
    "collapsed": false
   },
   "id": "1ad95372641bcb23"
  },
  {
   "cell_type": "code",
   "execution_count": 24,
   "outputs": [
    {
     "name": "stdout",
     "output_type": "stream",
     "text": [
      "1.31 ms ± 213 µs per loop (mean ± std. dev. of 7 runs, 100 loops each)\n"
     ]
    }
   ],
   "source": [
    "%%timeit -n 100\n",
    "total = 0\n",
    "for number in numbers:\n",
    "    total += number\n",
    "    \n",
    "total / len(numbers)"
   ],
   "metadata": {
    "collapsed": false,
    "ExecuteTime": {
     "end_time": "2023-10-10T02:26:14.802109946Z",
     "start_time": "2023-10-10T02:26:13.877311827Z"
    }
   },
   "id": "a3704d29ccc8e6b1"
  },
  {
   "cell_type": "code",
   "execution_count": 25,
   "outputs": [],
   "source": [
    "# Ahora probemos con Vectorización"
   ],
   "metadata": {
    "collapsed": false,
    "ExecuteTime": {
     "end_time": "2023-10-10T02:26:14.853509537Z",
     "start_time": "2023-10-10T02:26:14.799259410Z"
    }
   },
   "id": "a92da05fe45d3c46"
  },
  {
   "cell_type": "code",
   "execution_count": 26,
   "outputs": [
    {
     "name": "stdout",
     "output_type": "stream",
     "text": [
      "38.5 µs ± 4.94 µs per loop (mean ± std. dev. of 7 runs, 100 loops each)\n"
     ]
    }
   ],
   "source": [
    "%%timeit -n 100\n",
    "total = np.sum(numbers)\n",
    "total / len(numbers)"
   ],
   "metadata": {
    "collapsed": false,
    "ExecuteTime": {
     "end_time": "2023-10-10T02:26:14.857518928Z",
     "start_time": "2023-10-10T02:26:14.842496446Z"
    }
   },
   "id": "433ce52721231f7b"
  },
  {
   "cell_type": "markdown",
   "source": [
    "> Wow!!! Observen la diferencia!\n",
    "\n",
    "Recordemos que: \n",
    "\n",
    "* El milisegundo es la unidad de tiempo que corresponde a la milésima fracción de un segundo. Se abrevia ms (1 ms = 0,001 o 1 × 10-3 s).\n",
    "* El microsegundo es la unidad de tiempo que equivale a la millonésima parte de un segundo. Se abrevia μs (1 μs= 0,000001 o 1 x 10-6 s)."
   ],
   "metadata": {
    "collapsed": false
   },
   "id": "7d1d6fcfe21b258"
  },
  {
   "cell_type": "code",
   "execution_count": 26,
   "outputs": [],
   "source": [],
   "metadata": {
    "collapsed": false,
    "ExecuteTime": {
     "end_time": "2023-10-10T02:26:14.896850650Z",
     "start_time": "2023-10-10T02:26:14.842807818Z"
    }
   },
   "id": "127310cadaea692d"
  }
 ],
 "metadata": {
  "kernelspec": {
   "display_name": "Python 3",
   "language": "python",
   "name": "python3"
  },
  "language_info": {
   "codemirror_mode": {
    "name": "ipython",
    "version": 2
   },
   "file_extension": ".py",
   "mimetype": "text/x-python",
   "name": "python",
   "nbconvert_exporter": "python",
   "pygments_lexer": "ipython2",
   "version": "2.7.6"
  }
 },
 "nbformat": 4,
 "nbformat_minor": 5
}

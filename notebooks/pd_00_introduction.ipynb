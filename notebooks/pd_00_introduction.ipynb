{
 "cells": [
  {
   "cell_type": "markdown",
   "source": [
    "# Introducción a Pandas\n",
    "\n",
    "> Pandas es una librería de Python escrita como extensión de NumPy para manipulación y análisis de datos.\n",
    "\n",
    "Sitio oficial: [pandas.python.org](https://pandas.pydata.org/)\n",
    "Documentación Oficial: [pandas.pydata.org/pandas-docs/stable/](https://pandas.pydata.org/pandas-docs/stable/)\n"
   ],
   "metadata": {
    "collapsed": false
   },
   "id": "7be1fecae7b15cef"
  },
  {
   "cell_type": "markdown",
   "source": [
    "![Pandas](../images/logo-pandas.png)\n",
    "\n",
    "Pandas es un proyecto de código abierto bajo una licencia permisiva.\n",
    "\n",
    "> Pandas fue creado por Wes McKinney en 2008.\n",
    "\n",
    "Como proyecto de código abierto, tiene una comunidad fuerte, con más de 100 desarrolladores de software comprometiendo código para ayudarlo a mejorarlo.\n",
    "\n",
    "## Principales características\n",
    "\n",
    "- Define nuevas estructuras de datos basadas en los arrays de la librería NumPy pero con nuevas funcionalidades.\n",
    "-Permite leer y escribir fácilmente ficheros en formato CSV, Excel, JSON y bases de datos SQL.\n",
    "- Permite acceder a los datos mediante índices o nombres para filas y columnas.\n",
    "- Ofrece métodos para reordenar, dividir y combinar conjuntos de datos.\n",
    "- Permite trabajar con series temporales.\n",
    "- Realiza todas estas operaciones de manera muy eficiente.\n",
    "\n",
    "## Tipos de datos de Pandas\n",
    "\n",
    "Pandas dispone de tres estructuras de datos diferentes:\n",
    "\n",
    "- Series: Estructura de una dimensión.\n",
    "- DataFrame: Estructura de dos dimensiones (tablas).\n",
    "- Panel: Estructura de tres dimensiones (cubos)."
   ],
   "metadata": {
    "collapsed": false
   },
   "id": "9f61f63242884597"
  },
  {
   "cell_type": "code",
   "execution_count": null,
   "id": "initial_id",
   "metadata": {
    "collapsed": true,
    "ExecuteTime": {
     "end_time": "2023-10-09T01:52:12.399280635Z",
     "start_time": "2023-10-09T01:52:12.357323864Z"
    }
   },
   "outputs": [],
   "source": []
  }
 ],
 "metadata": {
  "kernelspec": {
   "display_name": "Python 3",
   "language": "python",
   "name": "python3"
  },
  "language_info": {
   "codemirror_mode": {
    "name": "ipython",
    "version": 2
   },
   "file_extension": ".py",
   "mimetype": "text/x-python",
   "name": "python",
   "nbconvert_exporter": "python",
   "pygments_lexer": "ipython2",
   "version": "2.7.6"
  }
 },
 "nbformat": 4,
 "nbformat_minor": 5
}

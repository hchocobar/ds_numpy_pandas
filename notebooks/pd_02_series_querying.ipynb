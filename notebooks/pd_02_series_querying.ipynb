{
 "cells": [
  {
   "cell_type": "markdown",
   "source": [
    "# Introducción a Pandas\n",
    "\n",
    "> Pandas es una librería de Python escrita como extensión de NumPy para manipulación y análisis de datos.\n",
    "\n",
    "Sitio oficial: [pandas.python.org](https://pandas.pydata.org/)\n",
    "Documentación Oficial: [pandas.pydata.org/pandas-docs/stable/](https://pandas.pydata.org/pandas-docs/stable/)"
   ],
   "metadata": {
    "collapsed": false
   },
   "id": "cc8dd1e7022c0deb"
  },
  {
   "cell_type": "code",
   "execution_count": 21,
   "id": "initial_id",
   "metadata": {
    "collapsed": true,
    "ExecuteTime": {
     "end_time": "2023-10-09T04:09:23.763253745Z",
     "start_time": "2023-10-09T04:09:23.750632794Z"
    }
   },
   "outputs": [],
   "source": [
    "import pandas as pd"
   ]
  },
  {
   "cell_type": "markdown",
   "source": [
    "## Series\n",
    "\n",
    "### Acceso a los elementos de una serie\n",
    "\n",
    "El acceso a los elementos de un objeto del tipo Series puede ser a través de índices (utilizando el atributo `iloc`) o de posiciones (utilizamos el atributo `loc`).\n",
    "\n",
    "Debemos tener en cuenta que `iloc` y `loc` no son métodos, sino que son atributos. Entonces no debemos usar paréntesis. En cambio debemos usar corchetes"
   ],
   "metadata": {
    "collapsed": false
   },
   "id": "4e1e7e1381948e6"
  },
  {
   "cell_type": "code",
   "execution_count": 22,
   "outputs": [
    {
     "name": "stdout",
     "output_type": "stream",
     "text": [
      "Mathew        Physics\n",
      "Hallie      Chemistry\n",
      "Jack          English\n",
      "Alison           Math\n",
      "Victoria      History\n",
      "dtype: object\n"
     ]
    }
   ],
   "source": [
    "students_scores = {'Mathew': 'Physics', \n",
    "                   'Hallie': 'Chemistry', \n",
    "                   'Jack': 'English', \n",
    "                   'Alison': 'Math', \n",
    "                   'Victoria': 'History'}\n",
    "s = pd.Series(students_scores)\n",
    "print(s)"
   ],
   "metadata": {
    "collapsed": false,
    "ExecuteTime": {
     "end_time": "2023-10-09T04:09:29.232288781Z",
     "start_time": "2023-10-09T04:09:29.215736914Z"
    }
   },
   "id": "16a456870c8202ff"
  },
  {
   "cell_type": "code",
   "execution_count": 23,
   "outputs": [
    {
     "data": {
      "text/plain": "'Math'"
     },
     "execution_count": 23,
     "metadata": {},
     "output_type": "execute_result"
    }
   ],
   "source": [
    "s.iloc[3]  # Devuelve 'Math' "
   ],
   "metadata": {
    "collapsed": false,
    "ExecuteTime": {
     "end_time": "2023-10-09T04:09:31.100857546Z",
     "start_time": "2023-10-09T04:09:31.086421859Z"
    }
   },
   "id": "38fdc85a852661ae"
  },
  {
   "cell_type": "code",
   "execution_count": 24,
   "outputs": [
    {
     "data": {
      "text/plain": "'History'"
     },
     "execution_count": 24,
     "metadata": {},
     "output_type": "execute_result"
    }
   ],
   "source": [
    "s.loc['Victoria']  # Devuelve 'History'"
   ],
   "metadata": {
    "collapsed": false,
    "ExecuteTime": {
     "end_time": "2023-10-09T04:09:32.651913197Z",
     "start_time": "2023-10-09T04:09:32.629486606Z"
    }
   },
   "id": "7ef73e9bc7141866"
  },
  {
   "cell_type": "markdown",
   "source": [
    "Pandas trata de hacernos el código un poco más legible y nos provee una manera más corta de acceder a los elementos de una Serie, utilizando el operador de índices en la serie misma. "
   ],
   "metadata": {
    "collapsed": false
   },
   "id": "9f367dce1ae69913"
  },
  {
   "cell_type": "code",
   "execution_count": 25,
   "outputs": [
    {
     "name": "stderr",
     "output_type": "stream",
     "text": [
      "/tmp/ipykernel_44686/58886767.py:2: FutureWarning: Series.__getitem__ treating keys as positions is deprecated. In a future version, integer keys will always be treated as labels (consistent with DataFrame behavior). To access a value by position, use `ser.iloc[pos]`\n",
      "  s[3]\n"
     ]
    },
    {
     "data": {
      "text/plain": "'Math'"
     },
     "execution_count": 25,
     "metadata": {},
     "output_type": "execute_result"
    }
   ],
   "source": [
    "# Si le pasamos un entero como parámetro, el operador se comportará como si utilizáramos el atributo `iloc`\n",
    "s[3]"
   ],
   "metadata": {
    "collapsed": false,
    "ExecuteTime": {
     "end_time": "2023-10-09T04:09:36.543234335Z",
     "start_time": "2023-10-09T04:09:36.490276475Z"
    }
   },
   "id": "aa0ca58b811c7b92"
  },
  {
   "cell_type": "code",
   "execution_count": 26,
   "outputs": [
    {
     "data": {
      "text/plain": "'History'"
     },
     "execution_count": 26,
     "metadata": {},
     "output_type": "execute_result"
    }
   ],
   "source": [
    "# Si le pasamos un objeto, el operador se comportará como si utilizáramos el atributo `loc`\n",
    "s['Victoria']"
   ],
   "metadata": {
    "collapsed": false,
    "ExecuteTime": {
     "end_time": "2023-10-09T04:09:39.119412368Z",
     "start_time": "2023-10-09T04:09:39.101880600Z"
    }
   },
   "id": "d7431eee3c885a4a"
  },
  {
   "cell_type": "code",
   "execution_count": 27,
   "outputs": [
    {
     "data": {
      "text/plain": "'Physics'"
     },
     "execution_count": 27,
     "metadata": {},
     "output_type": "execute_result"
    }
   ],
   "source": [
    "# Pero cuidado, porque podemos tener un caso en que esto nos devuelva un código de error.\n",
    "\n",
    "# Eso pasaría cuando nuestro índice sea una lista de enteros. Veamos un ejemplo\n",
    "class_code = {100: 'Physics',\n",
    "              101: 'Chemistry',\n",
    "              102: 'English',\n",
    "              103: 'Math',\n",
    "              104: 'History'}\n",
    "s = pd.Series(class_code)\n",
    "s[100]"
   ],
   "metadata": {
    "collapsed": false,
    "ExecuteTime": {
     "end_time": "2023-10-09T04:09:41.983646646Z",
     "start_time": "2023-10-09T04:09:41.974636660Z"
    }
   },
   "id": "37646b6a36517e94"
  },
  {
   "cell_type": "code",
   "execution_count": 28,
   "outputs": [
    {
     "ename": "KeyError",
     "evalue": "0",
     "output_type": "error",
     "traceback": [
      "\u001B[0;31m---------------------------------------------------------------------------\u001B[0m",
      "\u001B[0;31mKeyError\u001B[0m                                  Traceback (most recent call last)",
      "File \u001B[0;32m~/anaconda3/envs/py_jupyter_edu/lib/python3.10/site-packages/pandas/core/indexes/base.py:3790\u001B[0m, in \u001B[0;36mIndex.get_loc\u001B[0;34m(self, key)\u001B[0m\n\u001B[1;32m   3789\u001B[0m \u001B[38;5;28;01mtry\u001B[39;00m:\n\u001B[0;32m-> 3790\u001B[0m     \u001B[38;5;28;01mreturn\u001B[39;00m \u001B[38;5;28;43mself\u001B[39;49m\u001B[38;5;241;43m.\u001B[39;49m\u001B[43m_engine\u001B[49m\u001B[38;5;241;43m.\u001B[39;49m\u001B[43mget_loc\u001B[49m\u001B[43m(\u001B[49m\u001B[43mcasted_key\u001B[49m\u001B[43m)\u001B[49m\n\u001B[1;32m   3791\u001B[0m \u001B[38;5;28;01mexcept\u001B[39;00m \u001B[38;5;167;01mKeyError\u001B[39;00m \u001B[38;5;28;01mas\u001B[39;00m err:\n",
      "File \u001B[0;32mindex.pyx:152\u001B[0m, in \u001B[0;36mpandas._libs.index.IndexEngine.get_loc\u001B[0;34m()\u001B[0m\n",
      "File \u001B[0;32mindex.pyx:181\u001B[0m, in \u001B[0;36mpandas._libs.index.IndexEngine.get_loc\u001B[0;34m()\u001B[0m\n",
      "File \u001B[0;32mpandas/_libs/hashtable_class_helper.pxi:2606\u001B[0m, in \u001B[0;36mpandas._libs.hashtable.Int64HashTable.get_item\u001B[0;34m()\u001B[0m\n",
      "File \u001B[0;32mpandas/_libs/hashtable_class_helper.pxi:2630\u001B[0m, in \u001B[0;36mpandas._libs.hashtable.Int64HashTable.get_item\u001B[0;34m()\u001B[0m\n",
      "\u001B[0;31mKeyError\u001B[0m: 0",
      "\nThe above exception was the direct cause of the following exception:\n",
      "\u001B[0;31mKeyError\u001B[0m                                  Traceback (most recent call last)",
      "Cell \u001B[0;32mIn[28], line 2\u001B[0m\n\u001B[1;32m      1\u001B[0m \u001B[38;5;66;03m# Pero, que sucede si queremos el primer elemento y lo referenciamos con 0\u001B[39;00m\n\u001B[0;32m----> 2\u001B[0m \u001B[43ms\u001B[49m\u001B[43m[\u001B[49m\u001B[38;5;241;43m0\u001B[39;49m\u001B[43m]\u001B[49m\n",
      "File \u001B[0;32m~/anaconda3/envs/py_jupyter_edu/lib/python3.10/site-packages/pandas/core/series.py:1040\u001B[0m, in \u001B[0;36mSeries.__getitem__\u001B[0;34m(self, key)\u001B[0m\n\u001B[1;32m   1037\u001B[0m     \u001B[38;5;28;01mreturn\u001B[39;00m \u001B[38;5;28mself\u001B[39m\u001B[38;5;241m.\u001B[39m_values[key]\n\u001B[1;32m   1039\u001B[0m \u001B[38;5;28;01melif\u001B[39;00m key_is_scalar:\n\u001B[0;32m-> 1040\u001B[0m     \u001B[38;5;28;01mreturn\u001B[39;00m \u001B[38;5;28;43mself\u001B[39;49m\u001B[38;5;241;43m.\u001B[39;49m\u001B[43m_get_value\u001B[49m\u001B[43m(\u001B[49m\u001B[43mkey\u001B[49m\u001B[43m)\u001B[49m\n\u001B[1;32m   1042\u001B[0m \u001B[38;5;66;03m# Convert generator to list before going through hashable part\u001B[39;00m\n\u001B[1;32m   1043\u001B[0m \u001B[38;5;66;03m# (We will iterate through the generator there to check for slices)\u001B[39;00m\n\u001B[1;32m   1044\u001B[0m \u001B[38;5;28;01mif\u001B[39;00m is_iterator(key):\n",
      "File \u001B[0;32m~/anaconda3/envs/py_jupyter_edu/lib/python3.10/site-packages/pandas/core/series.py:1156\u001B[0m, in \u001B[0;36mSeries._get_value\u001B[0;34m(self, label, takeable)\u001B[0m\n\u001B[1;32m   1153\u001B[0m     \u001B[38;5;28;01mreturn\u001B[39;00m \u001B[38;5;28mself\u001B[39m\u001B[38;5;241m.\u001B[39m_values[label]\n\u001B[1;32m   1155\u001B[0m \u001B[38;5;66;03m# Similar to Index.get_value, but we do not fall back to positional\u001B[39;00m\n\u001B[0;32m-> 1156\u001B[0m loc \u001B[38;5;241m=\u001B[39m \u001B[38;5;28;43mself\u001B[39;49m\u001B[38;5;241;43m.\u001B[39;49m\u001B[43mindex\u001B[49m\u001B[38;5;241;43m.\u001B[39;49m\u001B[43mget_loc\u001B[49m\u001B[43m(\u001B[49m\u001B[43mlabel\u001B[49m\u001B[43m)\u001B[49m\n\u001B[1;32m   1158\u001B[0m \u001B[38;5;28;01mif\u001B[39;00m is_integer(loc):\n\u001B[1;32m   1159\u001B[0m     \u001B[38;5;28;01mreturn\u001B[39;00m \u001B[38;5;28mself\u001B[39m\u001B[38;5;241m.\u001B[39m_values[loc]\n",
      "File \u001B[0;32m~/anaconda3/envs/py_jupyter_edu/lib/python3.10/site-packages/pandas/core/indexes/base.py:3797\u001B[0m, in \u001B[0;36mIndex.get_loc\u001B[0;34m(self, key)\u001B[0m\n\u001B[1;32m   3792\u001B[0m     \u001B[38;5;28;01mif\u001B[39;00m \u001B[38;5;28misinstance\u001B[39m(casted_key, \u001B[38;5;28mslice\u001B[39m) \u001B[38;5;129;01mor\u001B[39;00m (\n\u001B[1;32m   3793\u001B[0m         \u001B[38;5;28misinstance\u001B[39m(casted_key, abc\u001B[38;5;241m.\u001B[39mIterable)\n\u001B[1;32m   3794\u001B[0m         \u001B[38;5;129;01mand\u001B[39;00m \u001B[38;5;28many\u001B[39m(\u001B[38;5;28misinstance\u001B[39m(x, \u001B[38;5;28mslice\u001B[39m) \u001B[38;5;28;01mfor\u001B[39;00m x \u001B[38;5;129;01min\u001B[39;00m casted_key)\n\u001B[1;32m   3795\u001B[0m     ):\n\u001B[1;32m   3796\u001B[0m         \u001B[38;5;28;01mraise\u001B[39;00m InvalidIndexError(key)\n\u001B[0;32m-> 3797\u001B[0m     \u001B[38;5;28;01mraise\u001B[39;00m \u001B[38;5;167;01mKeyError\u001B[39;00m(key) \u001B[38;5;28;01mfrom\u001B[39;00m \u001B[38;5;21;01merr\u001B[39;00m\n\u001B[1;32m   3798\u001B[0m \u001B[38;5;28;01mexcept\u001B[39;00m \u001B[38;5;167;01mTypeError\u001B[39;00m:\n\u001B[1;32m   3799\u001B[0m     \u001B[38;5;66;03m# If we have a listlike key, _check_indexing_error will raise\u001B[39;00m\n\u001B[1;32m   3800\u001B[0m     \u001B[38;5;66;03m#  InvalidIndexError. Otherwise we fall through and re-raise\u001B[39;00m\n\u001B[1;32m   3801\u001B[0m     \u001B[38;5;66;03m#  the TypeError.\u001B[39;00m\n\u001B[1;32m   3802\u001B[0m     \u001B[38;5;28mself\u001B[39m\u001B[38;5;241m.\u001B[39m_check_indexing_error(key)\n",
      "\u001B[0;31mKeyError\u001B[0m: 0"
     ]
    }
   ],
   "source": [
    "# Pero, que sucede si queremos el primer elemento y lo referenciamos con 0\n",
    "s[0]  # Devuelve un error"
   ],
   "metadata": {
    "collapsed": false,
    "ExecuteTime": {
     "end_time": "2023-10-09T04:09:46.394509496Z",
     "start_time": "2023-10-09T04:09:44.267305735Z"
    }
   },
   "id": "2d5e27e2344297f8"
  },
  {
   "cell_type": "markdown",
   "source": [
    "## Atributos\n",
    "\n",
    "Las siguientes funciones permiten resumir varios aspectos de una serie:\n",
    "\n",
    "Documentación oficial: [Attributes](https://pandas.pydata.org/pandas-docs/stable/reference/series.html#attributes)"
   ],
   "metadata": {
    "collapsed": false
   },
   "id": "51e466ede4ea92fc"
  },
  {
   "cell_type": "code",
   "execution_count": 29,
   "outputs": [
    {
     "name": "stdout",
     "output_type": "stream",
     "text": [
      "0    1\n",
      "1    1\n",
      "2    1\n",
      "3    1\n",
      "4    2\n",
      "5    2\n",
      "6    2\n",
      "7    3\n",
      "8    3\n",
      "9    4\n",
      "dtype: int64\n"
     ]
    }
   ],
   "source": [
    "s = pd.Series([1, 1, 1, 1, 2, 2, 2, 3, 3, 4])\n",
    "print(s)"
   ],
   "metadata": {
    "collapsed": false,
    "ExecuteTime": {
     "end_time": "2023-10-09T04:09:50.219076856Z",
     "start_time": "2023-10-09T04:09:50.210211306Z"
    }
   },
   "id": "72198f43583a8705"
  },
  {
   "cell_type": "code",
   "execution_count": 30,
   "outputs": [
    {
     "data": {
      "text/plain": "10"
     },
     "execution_count": 30,
     "metadata": {},
     "output_type": "execute_result"
    }
   ],
   "source": [
    "s.count()  # Devuelve el número de elementos que no son nulos ni NaN en la serie s."
   ],
   "metadata": {
    "collapsed": false,
    "ExecuteTime": {
     "end_time": "2023-10-09T04:09:53.800961139Z",
     "start_time": "2023-10-09T04:09:53.758614002Z"
    }
   },
   "id": "703c0712be03c7a2"
  },
  {
   "cell_type": "code",
   "execution_count": 31,
   "outputs": [
    {
     "data": {
      "text/plain": "20"
     },
     "execution_count": 31,
     "metadata": {},
     "output_type": "execute_result"
    }
   ],
   "source": [
    "s.sum()  # Devuelve la suma de los datos de la serie s cuando los datos son de un tipo numérico, o la concatenación de ellos cuando son del tipo cadena str."
   ],
   "metadata": {
    "collapsed": false,
    "ExecuteTime": {
     "end_time": "2023-10-09T04:09:54.993054935Z",
     "start_time": "2023-10-09T04:09:54.919936269Z"
    }
   },
   "id": "a0a7e4b212e8675"
  },
  {
   "cell_type": "code",
   "execution_count": 32,
   "outputs": [
    {
     "data": {
      "text/plain": "1    4\n2    3\n3    2\n4    1\nName: count, dtype: int64"
     },
     "execution_count": 32,
     "metadata": {},
     "output_type": "execute_result"
    }
   ],
   "source": [
    "s.value_counts()  # Devuelve una serie con la frecuencia (número de repeticiones) de cada valor de la serie s."
   ],
   "metadata": {
    "collapsed": false,
    "ExecuteTime": {
     "end_time": "2023-10-09T04:09:56.071036211Z",
     "start_time": "2023-10-09T04:09:56.064375542Z"
    }
   },
   "id": "711491a53ae2f925"
  },
  {
   "cell_type": "code",
   "execution_count": 33,
   "outputs": [
    {
     "data": {
      "text/plain": "1"
     },
     "execution_count": 33,
     "metadata": {},
     "output_type": "execute_result"
    }
   ],
   "source": [
    "s.min()  # Devuelve el menor de los datos de la serie s."
   ],
   "metadata": {
    "collapsed": false,
    "ExecuteTime": {
     "end_time": "2023-10-09T04:09:57.266625592Z",
     "start_time": "2023-10-09T04:09:57.259428526Z"
    }
   },
   "id": "df6b86a9b07da650"
  },
  {
   "cell_type": "code",
   "execution_count": 34,
   "outputs": [
    {
     "data": {
      "text/plain": "4"
     },
     "execution_count": 34,
     "metadata": {},
     "output_type": "execute_result"
    }
   ],
   "source": [
    "s.max()  # Devuelve el mayor de los datos de la serie s."
   ],
   "metadata": {
    "collapsed": false,
    "ExecuteTime": {
     "end_time": "2023-10-09T04:09:58.283435234Z",
     "start_time": "2023-10-09T04:09:58.261249183Z"
    }
   },
   "id": "2f8ed114e3fbc3dc"
  },
  {
   "cell_type": "code",
   "execution_count": 35,
   "outputs": [
    {
     "data": {
      "text/plain": "2.0"
     },
     "execution_count": 35,
     "metadata": {},
     "output_type": "execute_result"
    }
   ],
   "source": [
    "s.mean()  # Devuelve la media de los datos de la serie s cuando los datos son de un tipo numérico."
   ],
   "metadata": {
    "collapsed": false,
    "ExecuteTime": {
     "end_time": "2023-10-09T04:09:59.194231237Z",
     "start_time": "2023-10-09T04:09:59.178841142Z"
    }
   },
   "id": "ee66d1b9b41687de"
  },
  {
   "cell_type": "code",
   "execution_count": 36,
   "outputs": [
    {
     "data": {
      "text/plain": "1.1111111111111112"
     },
     "execution_count": 36,
     "metadata": {},
     "output_type": "execute_result"
    }
   ],
   "source": [
    "s.var()  # Devuelve la varianza de los datos de la serie s cuando los datos son de un tipo numérico."
   ],
   "metadata": {
    "collapsed": false,
    "ExecuteTime": {
     "end_time": "2023-10-09T04:10:00.200481911Z",
     "start_time": "2023-10-09T04:10:00.192189564Z"
    }
   },
   "id": "1b6b00bfa0e29b47"
  },
  {
   "cell_type": "code",
   "execution_count": 37,
   "outputs": [
    {
     "data": {
      "text/plain": "1.0540925533894598"
     },
     "execution_count": 37,
     "metadata": {},
     "output_type": "execute_result"
    }
   ],
   "source": [
    "s.std()  # Devuelve la desviación típica de los datos de la serie s cuando los datos son de un tipo numérico."
   ],
   "metadata": {
    "collapsed": false,
    "ExecuteTime": {
     "end_time": "2023-10-09T04:10:01.132392919Z",
     "start_time": "2023-10-09T04:10:01.106917461Z"
    }
   },
   "id": "8dce8e8e7b219dc6"
  },
  {
   "cell_type": "code",
   "execution_count": 38,
   "outputs": [
    {
     "data": {
      "text/plain": "count    10.000000\nmean      2.000000\nstd       1.054093\nmin       1.000000\n25%       1.000000\n50%       2.000000\n75%       2.750000\nmax       4.000000\ndtype: float64"
     },
     "execution_count": 38,
     "metadata": {},
     "output_type": "execute_result"
    }
   ],
   "source": [
    "s.describe()  # Devuelve una serie con un resumen descriptivo que incluye el número de datos, su suma, el mínimo, el máximo, la media, la desviación típica y los cuartiles.\n"
   ],
   "metadata": {
    "collapsed": false,
    "ExecuteTime": {
     "end_time": "2023-10-09T04:10:02.336654315Z",
     "start_time": "2023-10-09T04:10:02.332052624Z"
    }
   },
   "id": "86244847bc566566"
  },
  {
   "cell_type": "code",
   "execution_count": null,
   "outputs": [],
   "source": [],
   "metadata": {
    "collapsed": false
   },
   "id": "d94e15210516cc6d"
  }
 ],
 "metadata": {
  "kernelspec": {
   "display_name": "Python 3",
   "language": "python",
   "name": "python3"
  },
  "language_info": {
   "codemirror_mode": {
    "name": "ipython",
    "version": 2
   },
   "file_extension": ".py",
   "mimetype": "text/x-python",
   "name": "python",
   "nbconvert_exporter": "python",
   "pygments_lexer": "ipython2",
   "version": "2.7.6"
  }
 },
 "nbformat": 4,
 "nbformat_minor": 5
}
